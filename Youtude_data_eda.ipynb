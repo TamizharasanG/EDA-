{
  "cells": [
    {
      "cell_type": "markdown",
      "metadata": {
        "id": "view-in-github",
        "colab_type": "text"
      },
      "source": [
        "<a href=\"https://colab.research.google.com/github/TamizharasanG/EDA-/blob/main/Youtude_data_eda.ipynb\" target=\"_parent\"><img src=\"https://colab.research.google.com/assets/colab-badge.svg\" alt=\"Open In Colab\"/></a>"
      ]
    },
    {
      "cell_type": "code",
      "execution_count": 21,
      "id": "b6bfe376",
      "metadata": {
        "id": "b6bfe376"
      },
      "outputs": [],
      "source": [
        "import pandas as pd\n",
        "import numpy as np\n",
        "import matplotlib.pyplot as plt\n",
        "import seaborn as sns\n",
        "import plotly.express as px"
      ]
    },
    {
      "cell_type": "code",
      "execution_count": 22,
      "id": "7a8a0161",
      "metadata": {
        "id": "7a8a0161"
      },
      "outputs": [],
      "source": [
        "#Git hub link for data -- > \"https://github.com/TamizharasanG/Sample-datasets/blob/main/top-5000-youtube-channels.csv\"\n",
        "data = pd.read_csv(\"/content/top-5000-youtube-channels.csv\")\n"
      ]
    },
    {
      "cell_type": "code",
      "source": [
        "data.head()"
      ],
      "metadata": {
        "colab": {
          "base_uri": "https://localhost:8080/",
          "height": 206
        },
        "id": "zvaklin6kORQ",
        "outputId": "388a2944-001e-46b0-9480-7539c470bf79"
      },
      "id": "zvaklin6kORQ",
      "execution_count": 23,
      "outputs": [
        {
          "output_type": "execute_result",
          "data": {
            "text/plain": [
              "  Rank Grade                Channel name Video Uploads Subscribers  \\\n",
              "0  1st  A++                       Zee TV         82757    18752951   \n",
              "1  2nd  A++                     T-Series         12661    61196302   \n",
              "2  3rd  A++   Cocomelon - Nursery Rhymes           373    19238251   \n",
              "3  4th  A++                    SET India         27323    31180559   \n",
              "4  5th  A++                          WWE         36756    32852346   \n",
              "\n",
              "   Video views  \n",
              "0  20869786591  \n",
              "1  47548839843  \n",
              "2   9793305082  \n",
              "3  22675948293  \n",
              "4  26273668433  "
            ],
            "text/html": [
              "\n",
              "  <div id=\"df-1b0b1954-b418-4af2-8883-28c2f673a565\">\n",
              "    <div class=\"colab-df-container\">\n",
              "      <div>\n",
              "<style scoped>\n",
              "    .dataframe tbody tr th:only-of-type {\n",
              "        vertical-align: middle;\n",
              "    }\n",
              "\n",
              "    .dataframe tbody tr th {\n",
              "        vertical-align: top;\n",
              "    }\n",
              "\n",
              "    .dataframe thead th {\n",
              "        text-align: right;\n",
              "    }\n",
              "</style>\n",
              "<table border=\"1\" class=\"dataframe\">\n",
              "  <thead>\n",
              "    <tr style=\"text-align: right;\">\n",
              "      <th></th>\n",
              "      <th>Rank</th>\n",
              "      <th>Grade</th>\n",
              "      <th>Channel name</th>\n",
              "      <th>Video Uploads</th>\n",
              "      <th>Subscribers</th>\n",
              "      <th>Video views</th>\n",
              "    </tr>\n",
              "  </thead>\n",
              "  <tbody>\n",
              "    <tr>\n",
              "      <th>0</th>\n",
              "      <td>1st</td>\n",
              "      <td>A++</td>\n",
              "      <td>Zee TV</td>\n",
              "      <td>82757</td>\n",
              "      <td>18752951</td>\n",
              "      <td>20869786591</td>\n",
              "    </tr>\n",
              "    <tr>\n",
              "      <th>1</th>\n",
              "      <td>2nd</td>\n",
              "      <td>A++</td>\n",
              "      <td>T-Series</td>\n",
              "      <td>12661</td>\n",
              "      <td>61196302</td>\n",
              "      <td>47548839843</td>\n",
              "    </tr>\n",
              "    <tr>\n",
              "      <th>2</th>\n",
              "      <td>3rd</td>\n",
              "      <td>A++</td>\n",
              "      <td>Cocomelon - Nursery Rhymes</td>\n",
              "      <td>373</td>\n",
              "      <td>19238251</td>\n",
              "      <td>9793305082</td>\n",
              "    </tr>\n",
              "    <tr>\n",
              "      <th>3</th>\n",
              "      <td>4th</td>\n",
              "      <td>A++</td>\n",
              "      <td>SET India</td>\n",
              "      <td>27323</td>\n",
              "      <td>31180559</td>\n",
              "      <td>22675948293</td>\n",
              "    </tr>\n",
              "    <tr>\n",
              "      <th>4</th>\n",
              "      <td>5th</td>\n",
              "      <td>A++</td>\n",
              "      <td>WWE</td>\n",
              "      <td>36756</td>\n",
              "      <td>32852346</td>\n",
              "      <td>26273668433</td>\n",
              "    </tr>\n",
              "  </tbody>\n",
              "</table>\n",
              "</div>\n",
              "      <button class=\"colab-df-convert\" onclick=\"convertToInteractive('df-1b0b1954-b418-4af2-8883-28c2f673a565')\"\n",
              "              title=\"Convert this dataframe to an interactive table.\"\n",
              "              style=\"display:none;\">\n",
              "        \n",
              "  <svg xmlns=\"http://www.w3.org/2000/svg\" height=\"24px\"viewBox=\"0 0 24 24\"\n",
              "       width=\"24px\">\n",
              "    <path d=\"M0 0h24v24H0V0z\" fill=\"none\"/>\n",
              "    <path d=\"M18.56 5.44l.94 2.06.94-2.06 2.06-.94-2.06-.94-.94-2.06-.94 2.06-2.06.94zm-11 1L8.5 8.5l.94-2.06 2.06-.94-2.06-.94L8.5 2.5l-.94 2.06-2.06.94zm10 10l.94 2.06.94-2.06 2.06-.94-2.06-.94-.94-2.06-.94 2.06-2.06.94z\"/><path d=\"M17.41 7.96l-1.37-1.37c-.4-.4-.92-.59-1.43-.59-.52 0-1.04.2-1.43.59L10.3 9.45l-7.72 7.72c-.78.78-.78 2.05 0 2.83L4 21.41c.39.39.9.59 1.41.59.51 0 1.02-.2 1.41-.59l7.78-7.78 2.81-2.81c.8-.78.8-2.07 0-2.86zM5.41 20L4 18.59l7.72-7.72 1.47 1.35L5.41 20z\"/>\n",
              "  </svg>\n",
              "      </button>\n",
              "      \n",
              "  <style>\n",
              "    .colab-df-container {\n",
              "      display:flex;\n",
              "      flex-wrap:wrap;\n",
              "      gap: 12px;\n",
              "    }\n",
              "\n",
              "    .colab-df-convert {\n",
              "      background-color: #E8F0FE;\n",
              "      border: none;\n",
              "      border-radius: 50%;\n",
              "      cursor: pointer;\n",
              "      display: none;\n",
              "      fill: #1967D2;\n",
              "      height: 32px;\n",
              "      padding: 0 0 0 0;\n",
              "      width: 32px;\n",
              "    }\n",
              "\n",
              "    .colab-df-convert:hover {\n",
              "      background-color: #E2EBFA;\n",
              "      box-shadow: 0px 1px 2px rgba(60, 64, 67, 0.3), 0px 1px 3px 1px rgba(60, 64, 67, 0.15);\n",
              "      fill: #174EA6;\n",
              "    }\n",
              "\n",
              "    [theme=dark] .colab-df-convert {\n",
              "      background-color: #3B4455;\n",
              "      fill: #D2E3FC;\n",
              "    }\n",
              "\n",
              "    [theme=dark] .colab-df-convert:hover {\n",
              "      background-color: #434B5C;\n",
              "      box-shadow: 0px 1px 3px 1px rgba(0, 0, 0, 0.15);\n",
              "      filter: drop-shadow(0px 1px 2px rgba(0, 0, 0, 0.3));\n",
              "      fill: #FFFFFF;\n",
              "    }\n",
              "  </style>\n",
              "\n",
              "      <script>\n",
              "        const buttonEl =\n",
              "          document.querySelector('#df-1b0b1954-b418-4af2-8883-28c2f673a565 button.colab-df-convert');\n",
              "        buttonEl.style.display =\n",
              "          google.colab.kernel.accessAllowed ? 'block' : 'none';\n",
              "\n",
              "        async function convertToInteractive(key) {\n",
              "          const element = document.querySelector('#df-1b0b1954-b418-4af2-8883-28c2f673a565');\n",
              "          const dataTable =\n",
              "            await google.colab.kernel.invokeFunction('convertToInteractive',\n",
              "                                                     [key], {});\n",
              "          if (!dataTable) return;\n",
              "\n",
              "          const docLinkHtml = 'Like what you see? Visit the ' +\n",
              "            '<a target=\"_blank\" href=https://colab.research.google.com/notebooks/data_table.ipynb>data table notebook</a>'\n",
              "            + ' to learn more about interactive tables.';\n",
              "          element.innerHTML = '';\n",
              "          dataTable['output_type'] = 'display_data';\n",
              "          await google.colab.output.renderOutput(dataTable, element);\n",
              "          const docLink = document.createElement('div');\n",
              "          docLink.innerHTML = docLinkHtml;\n",
              "          element.appendChild(docLink);\n",
              "        }\n",
              "      </script>\n",
              "    </div>\n",
              "  </div>\n",
              "  "
            ]
          },
          "metadata": {},
          "execution_count": 23
        }
      ]
    },
    {
      "cell_type": "code",
      "execution_count": 24,
      "id": "f792414c",
      "metadata": {
        "colab": {
          "base_uri": "https://localhost:8080/",
          "height": 206
        },
        "id": "f792414c",
        "outputId": "bb6e8a8a-9951-4e27-d7b8-4b0ab978b422"
      },
      "outputs": [
        {
          "output_type": "execute_result",
          "data": {
            "text/plain": [
              "  Rank Grade                Channel name Video Uploads Subscribers  \\\n",
              "0  1st  A++                       Zee TV         82757    18752951   \n",
              "1  2nd  A++                     T-Series         12661    61196302   \n",
              "2  3rd  A++   Cocomelon - Nursery Rhymes           373    19238251   \n",
              "3  4th  A++                    SET India         27323    31180559   \n",
              "4  5th  A++                          WWE         36756    32852346   \n",
              "\n",
              "   Video views  \n",
              "0  20869786591  \n",
              "1  47548839843  \n",
              "2   9793305082  \n",
              "3  22675948293  \n",
              "4  26273668433  "
            ],
            "text/html": [
              "\n",
              "  <div id=\"df-7dd15b6f-f7f5-4cbf-9a08-9747d19a3f7d\">\n",
              "    <div class=\"colab-df-container\">\n",
              "      <div>\n",
              "<style scoped>\n",
              "    .dataframe tbody tr th:only-of-type {\n",
              "        vertical-align: middle;\n",
              "    }\n",
              "\n",
              "    .dataframe tbody tr th {\n",
              "        vertical-align: top;\n",
              "    }\n",
              "\n",
              "    .dataframe thead th {\n",
              "        text-align: right;\n",
              "    }\n",
              "</style>\n",
              "<table border=\"1\" class=\"dataframe\">\n",
              "  <thead>\n",
              "    <tr style=\"text-align: right;\">\n",
              "      <th></th>\n",
              "      <th>Rank</th>\n",
              "      <th>Grade</th>\n",
              "      <th>Channel name</th>\n",
              "      <th>Video Uploads</th>\n",
              "      <th>Subscribers</th>\n",
              "      <th>Video views</th>\n",
              "    </tr>\n",
              "  </thead>\n",
              "  <tbody>\n",
              "    <tr>\n",
              "      <th>0</th>\n",
              "      <td>1st</td>\n",
              "      <td>A++</td>\n",
              "      <td>Zee TV</td>\n",
              "      <td>82757</td>\n",
              "      <td>18752951</td>\n",
              "      <td>20869786591</td>\n",
              "    </tr>\n",
              "    <tr>\n",
              "      <th>1</th>\n",
              "      <td>2nd</td>\n",
              "      <td>A++</td>\n",
              "      <td>T-Series</td>\n",
              "      <td>12661</td>\n",
              "      <td>61196302</td>\n",
              "      <td>47548839843</td>\n",
              "    </tr>\n",
              "    <tr>\n",
              "      <th>2</th>\n",
              "      <td>3rd</td>\n",
              "      <td>A++</td>\n",
              "      <td>Cocomelon - Nursery Rhymes</td>\n",
              "      <td>373</td>\n",
              "      <td>19238251</td>\n",
              "      <td>9793305082</td>\n",
              "    </tr>\n",
              "    <tr>\n",
              "      <th>3</th>\n",
              "      <td>4th</td>\n",
              "      <td>A++</td>\n",
              "      <td>SET India</td>\n",
              "      <td>27323</td>\n",
              "      <td>31180559</td>\n",
              "      <td>22675948293</td>\n",
              "    </tr>\n",
              "    <tr>\n",
              "      <th>4</th>\n",
              "      <td>5th</td>\n",
              "      <td>A++</td>\n",
              "      <td>WWE</td>\n",
              "      <td>36756</td>\n",
              "      <td>32852346</td>\n",
              "      <td>26273668433</td>\n",
              "    </tr>\n",
              "  </tbody>\n",
              "</table>\n",
              "</div>\n",
              "      <button class=\"colab-df-convert\" onclick=\"convertToInteractive('df-7dd15b6f-f7f5-4cbf-9a08-9747d19a3f7d')\"\n",
              "              title=\"Convert this dataframe to an interactive table.\"\n",
              "              style=\"display:none;\">\n",
              "        \n",
              "  <svg xmlns=\"http://www.w3.org/2000/svg\" height=\"24px\"viewBox=\"0 0 24 24\"\n",
              "       width=\"24px\">\n",
              "    <path d=\"M0 0h24v24H0V0z\" fill=\"none\"/>\n",
              "    <path d=\"M18.56 5.44l.94 2.06.94-2.06 2.06-.94-2.06-.94-.94-2.06-.94 2.06-2.06.94zm-11 1L8.5 8.5l.94-2.06 2.06-.94-2.06-.94L8.5 2.5l-.94 2.06-2.06.94zm10 10l.94 2.06.94-2.06 2.06-.94-2.06-.94-.94-2.06-.94 2.06-2.06.94z\"/><path d=\"M17.41 7.96l-1.37-1.37c-.4-.4-.92-.59-1.43-.59-.52 0-1.04.2-1.43.59L10.3 9.45l-7.72 7.72c-.78.78-.78 2.05 0 2.83L4 21.41c.39.39.9.59 1.41.59.51 0 1.02-.2 1.41-.59l7.78-7.78 2.81-2.81c.8-.78.8-2.07 0-2.86zM5.41 20L4 18.59l7.72-7.72 1.47 1.35L5.41 20z\"/>\n",
              "  </svg>\n",
              "      </button>\n",
              "      \n",
              "  <style>\n",
              "    .colab-df-container {\n",
              "      display:flex;\n",
              "      flex-wrap:wrap;\n",
              "      gap: 12px;\n",
              "    }\n",
              "\n",
              "    .colab-df-convert {\n",
              "      background-color: #E8F0FE;\n",
              "      border: none;\n",
              "      border-radius: 50%;\n",
              "      cursor: pointer;\n",
              "      display: none;\n",
              "      fill: #1967D2;\n",
              "      height: 32px;\n",
              "      padding: 0 0 0 0;\n",
              "      width: 32px;\n",
              "    }\n",
              "\n",
              "    .colab-df-convert:hover {\n",
              "      background-color: #E2EBFA;\n",
              "      box-shadow: 0px 1px 2px rgba(60, 64, 67, 0.3), 0px 1px 3px 1px rgba(60, 64, 67, 0.15);\n",
              "      fill: #174EA6;\n",
              "    }\n",
              "\n",
              "    [theme=dark] .colab-df-convert {\n",
              "      background-color: #3B4455;\n",
              "      fill: #D2E3FC;\n",
              "    }\n",
              "\n",
              "    [theme=dark] .colab-df-convert:hover {\n",
              "      background-color: #434B5C;\n",
              "      box-shadow: 0px 1px 3px 1px rgba(0, 0, 0, 0.15);\n",
              "      filter: drop-shadow(0px 1px 2px rgba(0, 0, 0, 0.3));\n",
              "      fill: #FFFFFF;\n",
              "    }\n",
              "  </style>\n",
              "\n",
              "      <script>\n",
              "        const buttonEl =\n",
              "          document.querySelector('#df-7dd15b6f-f7f5-4cbf-9a08-9747d19a3f7d button.colab-df-convert');\n",
              "        buttonEl.style.display =\n",
              "          google.colab.kernel.accessAllowed ? 'block' : 'none';\n",
              "\n",
              "        async function convertToInteractive(key) {\n",
              "          const element = document.querySelector('#df-7dd15b6f-f7f5-4cbf-9a08-9747d19a3f7d');\n",
              "          const dataTable =\n",
              "            await google.colab.kernel.invokeFunction('convertToInteractive',\n",
              "                                                     [key], {});\n",
              "          if (!dataTable) return;\n",
              "\n",
              "          const docLinkHtml = 'Like what you see? Visit the ' +\n",
              "            '<a target=\"_blank\" href=https://colab.research.google.com/notebooks/data_table.ipynb>data table notebook</a>'\n",
              "            + ' to learn more about interactive tables.';\n",
              "          element.innerHTML = '';\n",
              "          dataTable['output_type'] = 'display_data';\n",
              "          await google.colab.output.renderOutput(dataTable, element);\n",
              "          const docLink = document.createElement('div');\n",
              "          docLink.innerHTML = docLinkHtml;\n",
              "          element.appendChild(docLink);\n",
              "        }\n",
              "      </script>\n",
              "    </div>\n",
              "  </div>\n",
              "  "
            ]
          },
          "metadata": {},
          "execution_count": 24
        }
      ],
      "source": [
        "\n",
        "data.head()"
      ]
    },
    {
      "cell_type": "code",
      "execution_count": 25,
      "id": "5077c2b5",
      "metadata": {
        "colab": {
          "base_uri": "https://localhost:8080/",
          "height": 424
        },
        "id": "5077c2b5",
        "outputId": "d8ca8e01-8677-461e-bc6a-9811d09afd55"
      },
      "outputs": [
        {
          "output_type": "execute_result",
          "data": {
            "text/plain": [
              "         Rank Grade                      Channel name Video Uploads  \\\n",
              "0         1st  A++                             Zee TV         82757   \n",
              "1         2nd  A++                           T-Series         12661   \n",
              "2         3rd  A++         Cocomelon - Nursery Rhymes           373   \n",
              "3         4th  A++                          SET India         27323   \n",
              "4         5th  A++                                WWE         36756   \n",
              "...       ...   ...                               ...           ...   \n",
              "4990  4,991st   B+      Ho Ngoc Ha's Official Channel           208   \n",
              "4991  4,992nd   B+               Toys to Learn Colors            11   \n",
              "4992  4,993rd   B+                              КАZКА            25   \n",
              "4993  4,994th   B+   United CUBE (CUBE Entertainment…          1055   \n",
              "4994  4,995th   B+                      Wings Marathi          1735   \n",
              "\n",
              "     Subscribers  Video views  \n",
              "0       18752951  20869786591  \n",
              "1       61196302  47548839843  \n",
              "2       19238251   9793305082  \n",
              "3       31180559  22675948293  \n",
              "4       32852346  26273668433  \n",
              "...          ...          ...  \n",
              "4990         --     127185704  \n",
              "4991      663114    141933264  \n",
              "4992      131766     74304638  \n",
              "4993     1586835    371299166  \n",
              "4994     1099659    346175699  \n",
              "\n",
              "[4995 rows x 6 columns]"
            ],
            "text/html": [
              "\n",
              "  <div id=\"df-820885f2-ae58-4114-8dbe-e310f12c33e3\">\n",
              "    <div class=\"colab-df-container\">\n",
              "      <div>\n",
              "<style scoped>\n",
              "    .dataframe tbody tr th:only-of-type {\n",
              "        vertical-align: middle;\n",
              "    }\n",
              "\n",
              "    .dataframe tbody tr th {\n",
              "        vertical-align: top;\n",
              "    }\n",
              "\n",
              "    .dataframe thead th {\n",
              "        text-align: right;\n",
              "    }\n",
              "</style>\n",
              "<table border=\"1\" class=\"dataframe\">\n",
              "  <thead>\n",
              "    <tr style=\"text-align: right;\">\n",
              "      <th></th>\n",
              "      <th>Rank</th>\n",
              "      <th>Grade</th>\n",
              "      <th>Channel name</th>\n",
              "      <th>Video Uploads</th>\n",
              "      <th>Subscribers</th>\n",
              "      <th>Video views</th>\n",
              "    </tr>\n",
              "  </thead>\n",
              "  <tbody>\n",
              "    <tr>\n",
              "      <th>0</th>\n",
              "      <td>1st</td>\n",
              "      <td>A++</td>\n",
              "      <td>Zee TV</td>\n",
              "      <td>82757</td>\n",
              "      <td>18752951</td>\n",
              "      <td>20869786591</td>\n",
              "    </tr>\n",
              "    <tr>\n",
              "      <th>1</th>\n",
              "      <td>2nd</td>\n",
              "      <td>A++</td>\n",
              "      <td>T-Series</td>\n",
              "      <td>12661</td>\n",
              "      <td>61196302</td>\n",
              "      <td>47548839843</td>\n",
              "    </tr>\n",
              "    <tr>\n",
              "      <th>2</th>\n",
              "      <td>3rd</td>\n",
              "      <td>A++</td>\n",
              "      <td>Cocomelon - Nursery Rhymes</td>\n",
              "      <td>373</td>\n",
              "      <td>19238251</td>\n",
              "      <td>9793305082</td>\n",
              "    </tr>\n",
              "    <tr>\n",
              "      <th>3</th>\n",
              "      <td>4th</td>\n",
              "      <td>A++</td>\n",
              "      <td>SET India</td>\n",
              "      <td>27323</td>\n",
              "      <td>31180559</td>\n",
              "      <td>22675948293</td>\n",
              "    </tr>\n",
              "    <tr>\n",
              "      <th>4</th>\n",
              "      <td>5th</td>\n",
              "      <td>A++</td>\n",
              "      <td>WWE</td>\n",
              "      <td>36756</td>\n",
              "      <td>32852346</td>\n",
              "      <td>26273668433</td>\n",
              "    </tr>\n",
              "    <tr>\n",
              "      <th>...</th>\n",
              "      <td>...</td>\n",
              "      <td>...</td>\n",
              "      <td>...</td>\n",
              "      <td>...</td>\n",
              "      <td>...</td>\n",
              "      <td>...</td>\n",
              "    </tr>\n",
              "    <tr>\n",
              "      <th>4990</th>\n",
              "      <td>4,991st</td>\n",
              "      <td>B+</td>\n",
              "      <td>Ho Ngoc Ha's Official Channel</td>\n",
              "      <td>208</td>\n",
              "      <td>--</td>\n",
              "      <td>127185704</td>\n",
              "    </tr>\n",
              "    <tr>\n",
              "      <th>4991</th>\n",
              "      <td>4,992nd</td>\n",
              "      <td>B+</td>\n",
              "      <td>Toys to Learn Colors</td>\n",
              "      <td>11</td>\n",
              "      <td>663114</td>\n",
              "      <td>141933264</td>\n",
              "    </tr>\n",
              "    <tr>\n",
              "      <th>4992</th>\n",
              "      <td>4,993rd</td>\n",
              "      <td>B+</td>\n",
              "      <td>КАZКА</td>\n",
              "      <td>25</td>\n",
              "      <td>131766</td>\n",
              "      <td>74304638</td>\n",
              "    </tr>\n",
              "    <tr>\n",
              "      <th>4993</th>\n",
              "      <td>4,994th</td>\n",
              "      <td>B+</td>\n",
              "      <td>United CUBE (CUBE Entertainment…</td>\n",
              "      <td>1055</td>\n",
              "      <td>1586835</td>\n",
              "      <td>371299166</td>\n",
              "    </tr>\n",
              "    <tr>\n",
              "      <th>4994</th>\n",
              "      <td>4,995th</td>\n",
              "      <td>B+</td>\n",
              "      <td>Wings Marathi</td>\n",
              "      <td>1735</td>\n",
              "      <td>1099659</td>\n",
              "      <td>346175699</td>\n",
              "    </tr>\n",
              "  </tbody>\n",
              "</table>\n",
              "<p>4995 rows × 6 columns</p>\n",
              "</div>\n",
              "      <button class=\"colab-df-convert\" onclick=\"convertToInteractive('df-820885f2-ae58-4114-8dbe-e310f12c33e3')\"\n",
              "              title=\"Convert this dataframe to an interactive table.\"\n",
              "              style=\"display:none;\">\n",
              "        \n",
              "  <svg xmlns=\"http://www.w3.org/2000/svg\" height=\"24px\"viewBox=\"0 0 24 24\"\n",
              "       width=\"24px\">\n",
              "    <path d=\"M0 0h24v24H0V0z\" fill=\"none\"/>\n",
              "    <path d=\"M18.56 5.44l.94 2.06.94-2.06 2.06-.94-2.06-.94-.94-2.06-.94 2.06-2.06.94zm-11 1L8.5 8.5l.94-2.06 2.06-.94-2.06-.94L8.5 2.5l-.94 2.06-2.06.94zm10 10l.94 2.06.94-2.06 2.06-.94-2.06-.94-.94-2.06-.94 2.06-2.06.94z\"/><path d=\"M17.41 7.96l-1.37-1.37c-.4-.4-.92-.59-1.43-.59-.52 0-1.04.2-1.43.59L10.3 9.45l-7.72 7.72c-.78.78-.78 2.05 0 2.83L4 21.41c.39.39.9.59 1.41.59.51 0 1.02-.2 1.41-.59l7.78-7.78 2.81-2.81c.8-.78.8-2.07 0-2.86zM5.41 20L4 18.59l7.72-7.72 1.47 1.35L5.41 20z\"/>\n",
              "  </svg>\n",
              "      </button>\n",
              "      \n",
              "  <style>\n",
              "    .colab-df-container {\n",
              "      display:flex;\n",
              "      flex-wrap:wrap;\n",
              "      gap: 12px;\n",
              "    }\n",
              "\n",
              "    .colab-df-convert {\n",
              "      background-color: #E8F0FE;\n",
              "      border: none;\n",
              "      border-radius: 50%;\n",
              "      cursor: pointer;\n",
              "      display: none;\n",
              "      fill: #1967D2;\n",
              "      height: 32px;\n",
              "      padding: 0 0 0 0;\n",
              "      width: 32px;\n",
              "    }\n",
              "\n",
              "    .colab-df-convert:hover {\n",
              "      background-color: #E2EBFA;\n",
              "      box-shadow: 0px 1px 2px rgba(60, 64, 67, 0.3), 0px 1px 3px 1px rgba(60, 64, 67, 0.15);\n",
              "      fill: #174EA6;\n",
              "    }\n",
              "\n",
              "    [theme=dark] .colab-df-convert {\n",
              "      background-color: #3B4455;\n",
              "      fill: #D2E3FC;\n",
              "    }\n",
              "\n",
              "    [theme=dark] .colab-df-convert:hover {\n",
              "      background-color: #434B5C;\n",
              "      box-shadow: 0px 1px 3px 1px rgba(0, 0, 0, 0.15);\n",
              "      filter: drop-shadow(0px 1px 2px rgba(0, 0, 0, 0.3));\n",
              "      fill: #FFFFFF;\n",
              "    }\n",
              "  </style>\n",
              "\n",
              "      <script>\n",
              "        const buttonEl =\n",
              "          document.querySelector('#df-820885f2-ae58-4114-8dbe-e310f12c33e3 button.colab-df-convert');\n",
              "        buttonEl.style.display =\n",
              "          google.colab.kernel.accessAllowed ? 'block' : 'none';\n",
              "\n",
              "        async function convertToInteractive(key) {\n",
              "          const element = document.querySelector('#df-820885f2-ae58-4114-8dbe-e310f12c33e3');\n",
              "          const dataTable =\n",
              "            await google.colab.kernel.invokeFunction('convertToInteractive',\n",
              "                                                     [key], {});\n",
              "          if (!dataTable) return;\n",
              "\n",
              "          const docLinkHtml = 'Like what you see? Visit the ' +\n",
              "            '<a target=\"_blank\" href=https://colab.research.google.com/notebooks/data_table.ipynb>data table notebook</a>'\n",
              "            + ' to learn more about interactive tables.';\n",
              "          element.innerHTML = '';\n",
              "          dataTable['output_type'] = 'display_data';\n",
              "          await google.colab.output.renderOutput(dataTable, element);\n",
              "          const docLink = document.createElement('div');\n",
              "          docLink.innerHTML = docLinkHtml;\n",
              "          element.appendChild(docLink);\n",
              "        }\n",
              "      </script>\n",
              "    </div>\n",
              "  </div>\n",
              "  "
            ]
          },
          "metadata": {},
          "execution_count": 25
        }
      ],
      "source": [
        "data.head(-5)\n"
      ]
    },
    {
      "cell_type": "code",
      "execution_count": 26,
      "id": "322b46a9",
      "metadata": {
        "colab": {
          "base_uri": "https://localhost:8080/",
          "height": 424
        },
        "id": "322b46a9",
        "outputId": "82281e34-0479-4cd0-97ce-14e4579c9d1e"
      },
      "outputs": [
        {
          "output_type": "execute_result",
          "data": {
            "text/plain": [
              "         Rank Grade           Channel name Video Uploads Subscribers  \\\n",
              "5         6th  A++              Movieclips         30243    17149705   \n",
              "6         7th  A++              netd müzik          8500    11373567   \n",
              "7         8th  A++   ABS-CBN Entertainment        100147    12149206   \n",
              "8         9th  A++         Ryan ToysReview          1140    16082927   \n",
              "9        10th  A++             Zee Marathi         74607     2841811   \n",
              "...       ...   ...                    ...           ...         ...   \n",
              "4995  4,996th   B+          Uras Benlioğlu           706     2072942   \n",
              "4996  4,997th   B+       HI-TECH MUSIC LTD           797     1055091   \n",
              "4997  4,998th   B+             Mastersaint           110     3265735   \n",
              "4998  4,999th   B+          Bruce McIntosh          3475       32990   \n",
              "4999  5,000th   B+               SehatAQUA           254       21172   \n",
              "\n",
              "      Video views  \n",
              "5     16618094724  \n",
              "6     23898730764  \n",
              "7     17202609850  \n",
              "8     24518098041  \n",
              "9      2591830307  \n",
              "...           ...  \n",
              "4995    441202795  \n",
              "4996    377331722  \n",
              "4997    311758426  \n",
              "4998     14563764  \n",
              "4999     73312511  \n",
              "\n",
              "[4995 rows x 6 columns]"
            ],
            "text/html": [
              "\n",
              "  <div id=\"df-a560c8a8-8029-44d0-a1c7-cf895baf4ca0\">\n",
              "    <div class=\"colab-df-container\">\n",
              "      <div>\n",
              "<style scoped>\n",
              "    .dataframe tbody tr th:only-of-type {\n",
              "        vertical-align: middle;\n",
              "    }\n",
              "\n",
              "    .dataframe tbody tr th {\n",
              "        vertical-align: top;\n",
              "    }\n",
              "\n",
              "    .dataframe thead th {\n",
              "        text-align: right;\n",
              "    }\n",
              "</style>\n",
              "<table border=\"1\" class=\"dataframe\">\n",
              "  <thead>\n",
              "    <tr style=\"text-align: right;\">\n",
              "      <th></th>\n",
              "      <th>Rank</th>\n",
              "      <th>Grade</th>\n",
              "      <th>Channel name</th>\n",
              "      <th>Video Uploads</th>\n",
              "      <th>Subscribers</th>\n",
              "      <th>Video views</th>\n",
              "    </tr>\n",
              "  </thead>\n",
              "  <tbody>\n",
              "    <tr>\n",
              "      <th>5</th>\n",
              "      <td>6th</td>\n",
              "      <td>A++</td>\n",
              "      <td>Movieclips</td>\n",
              "      <td>30243</td>\n",
              "      <td>17149705</td>\n",
              "      <td>16618094724</td>\n",
              "    </tr>\n",
              "    <tr>\n",
              "      <th>6</th>\n",
              "      <td>7th</td>\n",
              "      <td>A++</td>\n",
              "      <td>netd müzik</td>\n",
              "      <td>8500</td>\n",
              "      <td>11373567</td>\n",
              "      <td>23898730764</td>\n",
              "    </tr>\n",
              "    <tr>\n",
              "      <th>7</th>\n",
              "      <td>8th</td>\n",
              "      <td>A++</td>\n",
              "      <td>ABS-CBN Entertainment</td>\n",
              "      <td>100147</td>\n",
              "      <td>12149206</td>\n",
              "      <td>17202609850</td>\n",
              "    </tr>\n",
              "    <tr>\n",
              "      <th>8</th>\n",
              "      <td>9th</td>\n",
              "      <td>A++</td>\n",
              "      <td>Ryan ToysReview</td>\n",
              "      <td>1140</td>\n",
              "      <td>16082927</td>\n",
              "      <td>24518098041</td>\n",
              "    </tr>\n",
              "    <tr>\n",
              "      <th>9</th>\n",
              "      <td>10th</td>\n",
              "      <td>A++</td>\n",
              "      <td>Zee Marathi</td>\n",
              "      <td>74607</td>\n",
              "      <td>2841811</td>\n",
              "      <td>2591830307</td>\n",
              "    </tr>\n",
              "    <tr>\n",
              "      <th>...</th>\n",
              "      <td>...</td>\n",
              "      <td>...</td>\n",
              "      <td>...</td>\n",
              "      <td>...</td>\n",
              "      <td>...</td>\n",
              "      <td>...</td>\n",
              "    </tr>\n",
              "    <tr>\n",
              "      <th>4995</th>\n",
              "      <td>4,996th</td>\n",
              "      <td>B+</td>\n",
              "      <td>Uras Benlioğlu</td>\n",
              "      <td>706</td>\n",
              "      <td>2072942</td>\n",
              "      <td>441202795</td>\n",
              "    </tr>\n",
              "    <tr>\n",
              "      <th>4996</th>\n",
              "      <td>4,997th</td>\n",
              "      <td>B+</td>\n",
              "      <td>HI-TECH MUSIC LTD</td>\n",
              "      <td>797</td>\n",
              "      <td>1055091</td>\n",
              "      <td>377331722</td>\n",
              "    </tr>\n",
              "    <tr>\n",
              "      <th>4997</th>\n",
              "      <td>4,998th</td>\n",
              "      <td>B+</td>\n",
              "      <td>Mastersaint</td>\n",
              "      <td>110</td>\n",
              "      <td>3265735</td>\n",
              "      <td>311758426</td>\n",
              "    </tr>\n",
              "    <tr>\n",
              "      <th>4998</th>\n",
              "      <td>4,999th</td>\n",
              "      <td>B+</td>\n",
              "      <td>Bruce McIntosh</td>\n",
              "      <td>3475</td>\n",
              "      <td>32990</td>\n",
              "      <td>14563764</td>\n",
              "    </tr>\n",
              "    <tr>\n",
              "      <th>4999</th>\n",
              "      <td>5,000th</td>\n",
              "      <td>B+</td>\n",
              "      <td>SehatAQUA</td>\n",
              "      <td>254</td>\n",
              "      <td>21172</td>\n",
              "      <td>73312511</td>\n",
              "    </tr>\n",
              "  </tbody>\n",
              "</table>\n",
              "<p>4995 rows × 6 columns</p>\n",
              "</div>\n",
              "      <button class=\"colab-df-convert\" onclick=\"convertToInteractive('df-a560c8a8-8029-44d0-a1c7-cf895baf4ca0')\"\n",
              "              title=\"Convert this dataframe to an interactive table.\"\n",
              "              style=\"display:none;\">\n",
              "        \n",
              "  <svg xmlns=\"http://www.w3.org/2000/svg\" height=\"24px\"viewBox=\"0 0 24 24\"\n",
              "       width=\"24px\">\n",
              "    <path d=\"M0 0h24v24H0V0z\" fill=\"none\"/>\n",
              "    <path d=\"M18.56 5.44l.94 2.06.94-2.06 2.06-.94-2.06-.94-.94-2.06-.94 2.06-2.06.94zm-11 1L8.5 8.5l.94-2.06 2.06-.94-2.06-.94L8.5 2.5l-.94 2.06-2.06.94zm10 10l.94 2.06.94-2.06 2.06-.94-2.06-.94-.94-2.06-.94 2.06-2.06.94z\"/><path d=\"M17.41 7.96l-1.37-1.37c-.4-.4-.92-.59-1.43-.59-.52 0-1.04.2-1.43.59L10.3 9.45l-7.72 7.72c-.78.78-.78 2.05 0 2.83L4 21.41c.39.39.9.59 1.41.59.51 0 1.02-.2 1.41-.59l7.78-7.78 2.81-2.81c.8-.78.8-2.07 0-2.86zM5.41 20L4 18.59l7.72-7.72 1.47 1.35L5.41 20z\"/>\n",
              "  </svg>\n",
              "      </button>\n",
              "      \n",
              "  <style>\n",
              "    .colab-df-container {\n",
              "      display:flex;\n",
              "      flex-wrap:wrap;\n",
              "      gap: 12px;\n",
              "    }\n",
              "\n",
              "    .colab-df-convert {\n",
              "      background-color: #E8F0FE;\n",
              "      border: none;\n",
              "      border-radius: 50%;\n",
              "      cursor: pointer;\n",
              "      display: none;\n",
              "      fill: #1967D2;\n",
              "      height: 32px;\n",
              "      padding: 0 0 0 0;\n",
              "      width: 32px;\n",
              "    }\n",
              "\n",
              "    .colab-df-convert:hover {\n",
              "      background-color: #E2EBFA;\n",
              "      box-shadow: 0px 1px 2px rgba(60, 64, 67, 0.3), 0px 1px 3px 1px rgba(60, 64, 67, 0.15);\n",
              "      fill: #174EA6;\n",
              "    }\n",
              "\n",
              "    [theme=dark] .colab-df-convert {\n",
              "      background-color: #3B4455;\n",
              "      fill: #D2E3FC;\n",
              "    }\n",
              "\n",
              "    [theme=dark] .colab-df-convert:hover {\n",
              "      background-color: #434B5C;\n",
              "      box-shadow: 0px 1px 3px 1px rgba(0, 0, 0, 0.15);\n",
              "      filter: drop-shadow(0px 1px 2px rgba(0, 0, 0, 0.3));\n",
              "      fill: #FFFFFF;\n",
              "    }\n",
              "  </style>\n",
              "\n",
              "      <script>\n",
              "        const buttonEl =\n",
              "          document.querySelector('#df-a560c8a8-8029-44d0-a1c7-cf895baf4ca0 button.colab-df-convert');\n",
              "        buttonEl.style.display =\n",
              "          google.colab.kernel.accessAllowed ? 'block' : 'none';\n",
              "\n",
              "        async function convertToInteractive(key) {\n",
              "          const element = document.querySelector('#df-a560c8a8-8029-44d0-a1c7-cf895baf4ca0');\n",
              "          const dataTable =\n",
              "            await google.colab.kernel.invokeFunction('convertToInteractive',\n",
              "                                                     [key], {});\n",
              "          if (!dataTable) return;\n",
              "\n",
              "          const docLinkHtml = 'Like what you see? Visit the ' +\n",
              "            '<a target=\"_blank\" href=https://colab.research.google.com/notebooks/data_table.ipynb>data table notebook</a>'\n",
              "            + ' to learn more about interactive tables.';\n",
              "          element.innerHTML = '';\n",
              "          dataTable['output_type'] = 'display_data';\n",
              "          await google.colab.output.renderOutput(dataTable, element);\n",
              "          const docLink = document.createElement('div');\n",
              "          docLink.innerHTML = docLinkHtml;\n",
              "          element.appendChild(docLink);\n",
              "        }\n",
              "      </script>\n",
              "    </div>\n",
              "  </div>\n",
              "  "
            ]
          },
          "metadata": {},
          "execution_count": 26
        }
      ],
      "source": [
        "\n",
        "data.tail(-5)\n"
      ]
    },
    {
      "cell_type": "code",
      "execution_count": 27,
      "id": "e21de9d6",
      "metadata": {
        "colab": {
          "base_uri": "https://localhost:8080/"
        },
        "id": "e21de9d6",
        "outputId": "3337a295-5b43-451d-c28e-1ada9f1c10d8"
      },
      "outputs": [
        {
          "output_type": "stream",
          "name": "stdout",
          "text": [
            "<class 'pandas.core.frame.DataFrame'>\n",
            "RangeIndex: 5000 entries, 0 to 4999\n",
            "Data columns (total 6 columns):\n",
            " #   Column         Non-Null Count  Dtype \n",
            "---  ------         --------------  ----- \n",
            " 0   Rank           5000 non-null   object\n",
            " 1   Grade          5000 non-null   object\n",
            " 2   Channel name   5000 non-null   object\n",
            " 3   Video Uploads  5000 non-null   object\n",
            " 4   Subscribers    5000 non-null   object\n",
            " 5   Video views    5000 non-null   int64 \n",
            "dtypes: int64(1), object(5)\n",
            "memory usage: 234.5+ KB\n"
          ]
        }
      ],
      "source": [
        "\n",
        "data.info()"
      ]
    },
    {
      "cell_type": "code",
      "execution_count": 28,
      "id": "1975393a",
      "metadata": {
        "colab": {
          "base_uri": "https://localhost:8080/",
          "height": 394
        },
        "id": "1975393a",
        "outputId": "43d63ec1-62bd-48cd-c82a-714a581078af"
      },
      "outputs": [
        {
          "output_type": "execute_result",
          "data": {
            "text/plain": [
              "        Rank Grade Channel name Video Uploads Subscribers    Video views\n",
              "count   5000  5000         5000          5000        5000        5000.00\n",
              "unique  5000     6         4993          2286        4612            NaN\n",
              "top      1st   B+    Thơ Nguyễn            26         --             NaN\n",
              "freq       1  2956            2            17         387            NaN\n",
              "mean     NaN   NaN          NaN           NaN         NaN  1071449400.15\n",
              "std      NaN   NaN          NaN           NaN         NaN  2003843972.12\n",
              "min      NaN   NaN          NaN           NaN         NaN          75.00\n",
              "25%      NaN   NaN          NaN           NaN         NaN   186232945.75\n",
              "50%      NaN   NaN          NaN           NaN         NaN   482054780.00\n",
              "75%      NaN   NaN          NaN           NaN         NaN  1124367826.75\n",
              "max      NaN   NaN          NaN           NaN         NaN 47548839843.00"
            ],
            "text/html": [
              "\n",
              "  <div id=\"df-f150efd2-30b7-4b33-b87b-bf8022acf35e\">\n",
              "    <div class=\"colab-df-container\">\n",
              "      <div>\n",
              "<style scoped>\n",
              "    .dataframe tbody tr th:only-of-type {\n",
              "        vertical-align: middle;\n",
              "    }\n",
              "\n",
              "    .dataframe tbody tr th {\n",
              "        vertical-align: top;\n",
              "    }\n",
              "\n",
              "    .dataframe thead th {\n",
              "        text-align: right;\n",
              "    }\n",
              "</style>\n",
              "<table border=\"1\" class=\"dataframe\">\n",
              "  <thead>\n",
              "    <tr style=\"text-align: right;\">\n",
              "      <th></th>\n",
              "      <th>Rank</th>\n",
              "      <th>Grade</th>\n",
              "      <th>Channel name</th>\n",
              "      <th>Video Uploads</th>\n",
              "      <th>Subscribers</th>\n",
              "      <th>Video views</th>\n",
              "    </tr>\n",
              "  </thead>\n",
              "  <tbody>\n",
              "    <tr>\n",
              "      <th>count</th>\n",
              "      <td>5000</td>\n",
              "      <td>5000</td>\n",
              "      <td>5000</td>\n",
              "      <td>5000</td>\n",
              "      <td>5000</td>\n",
              "      <td>5000.00</td>\n",
              "    </tr>\n",
              "    <tr>\n",
              "      <th>unique</th>\n",
              "      <td>5000</td>\n",
              "      <td>6</td>\n",
              "      <td>4993</td>\n",
              "      <td>2286</td>\n",
              "      <td>4612</td>\n",
              "      <td>NaN</td>\n",
              "    </tr>\n",
              "    <tr>\n",
              "      <th>top</th>\n",
              "      <td>1st</td>\n",
              "      <td>B+</td>\n",
              "      <td>Thơ Nguyễn</td>\n",
              "      <td>26</td>\n",
              "      <td>--</td>\n",
              "      <td>NaN</td>\n",
              "    </tr>\n",
              "    <tr>\n",
              "      <th>freq</th>\n",
              "      <td>1</td>\n",
              "      <td>2956</td>\n",
              "      <td>2</td>\n",
              "      <td>17</td>\n",
              "      <td>387</td>\n",
              "      <td>NaN</td>\n",
              "    </tr>\n",
              "    <tr>\n",
              "      <th>mean</th>\n",
              "      <td>NaN</td>\n",
              "      <td>NaN</td>\n",
              "      <td>NaN</td>\n",
              "      <td>NaN</td>\n",
              "      <td>NaN</td>\n",
              "      <td>1071449400.15</td>\n",
              "    </tr>\n",
              "    <tr>\n",
              "      <th>std</th>\n",
              "      <td>NaN</td>\n",
              "      <td>NaN</td>\n",
              "      <td>NaN</td>\n",
              "      <td>NaN</td>\n",
              "      <td>NaN</td>\n",
              "      <td>2003843972.12</td>\n",
              "    </tr>\n",
              "    <tr>\n",
              "      <th>min</th>\n",
              "      <td>NaN</td>\n",
              "      <td>NaN</td>\n",
              "      <td>NaN</td>\n",
              "      <td>NaN</td>\n",
              "      <td>NaN</td>\n",
              "      <td>75.00</td>\n",
              "    </tr>\n",
              "    <tr>\n",
              "      <th>25%</th>\n",
              "      <td>NaN</td>\n",
              "      <td>NaN</td>\n",
              "      <td>NaN</td>\n",
              "      <td>NaN</td>\n",
              "      <td>NaN</td>\n",
              "      <td>186232945.75</td>\n",
              "    </tr>\n",
              "    <tr>\n",
              "      <th>50%</th>\n",
              "      <td>NaN</td>\n",
              "      <td>NaN</td>\n",
              "      <td>NaN</td>\n",
              "      <td>NaN</td>\n",
              "      <td>NaN</td>\n",
              "      <td>482054780.00</td>\n",
              "    </tr>\n",
              "    <tr>\n",
              "      <th>75%</th>\n",
              "      <td>NaN</td>\n",
              "      <td>NaN</td>\n",
              "      <td>NaN</td>\n",
              "      <td>NaN</td>\n",
              "      <td>NaN</td>\n",
              "      <td>1124367826.75</td>\n",
              "    </tr>\n",
              "    <tr>\n",
              "      <th>max</th>\n",
              "      <td>NaN</td>\n",
              "      <td>NaN</td>\n",
              "      <td>NaN</td>\n",
              "      <td>NaN</td>\n",
              "      <td>NaN</td>\n",
              "      <td>47548839843.00</td>\n",
              "    </tr>\n",
              "  </tbody>\n",
              "</table>\n",
              "</div>\n",
              "      <button class=\"colab-df-convert\" onclick=\"convertToInteractive('df-f150efd2-30b7-4b33-b87b-bf8022acf35e')\"\n",
              "              title=\"Convert this dataframe to an interactive table.\"\n",
              "              style=\"display:none;\">\n",
              "        \n",
              "  <svg xmlns=\"http://www.w3.org/2000/svg\" height=\"24px\"viewBox=\"0 0 24 24\"\n",
              "       width=\"24px\">\n",
              "    <path d=\"M0 0h24v24H0V0z\" fill=\"none\"/>\n",
              "    <path d=\"M18.56 5.44l.94 2.06.94-2.06 2.06-.94-2.06-.94-.94-2.06-.94 2.06-2.06.94zm-11 1L8.5 8.5l.94-2.06 2.06-.94-2.06-.94L8.5 2.5l-.94 2.06-2.06.94zm10 10l.94 2.06.94-2.06 2.06-.94-2.06-.94-.94-2.06-.94 2.06-2.06.94z\"/><path d=\"M17.41 7.96l-1.37-1.37c-.4-.4-.92-.59-1.43-.59-.52 0-1.04.2-1.43.59L10.3 9.45l-7.72 7.72c-.78.78-.78 2.05 0 2.83L4 21.41c.39.39.9.59 1.41.59.51 0 1.02-.2 1.41-.59l7.78-7.78 2.81-2.81c.8-.78.8-2.07 0-2.86zM5.41 20L4 18.59l7.72-7.72 1.47 1.35L5.41 20z\"/>\n",
              "  </svg>\n",
              "      </button>\n",
              "      \n",
              "  <style>\n",
              "    .colab-df-container {\n",
              "      display:flex;\n",
              "      flex-wrap:wrap;\n",
              "      gap: 12px;\n",
              "    }\n",
              "\n",
              "    .colab-df-convert {\n",
              "      background-color: #E8F0FE;\n",
              "      border: none;\n",
              "      border-radius: 50%;\n",
              "      cursor: pointer;\n",
              "      display: none;\n",
              "      fill: #1967D2;\n",
              "      height: 32px;\n",
              "      padding: 0 0 0 0;\n",
              "      width: 32px;\n",
              "    }\n",
              "\n",
              "    .colab-df-convert:hover {\n",
              "      background-color: #E2EBFA;\n",
              "      box-shadow: 0px 1px 2px rgba(60, 64, 67, 0.3), 0px 1px 3px 1px rgba(60, 64, 67, 0.15);\n",
              "      fill: #174EA6;\n",
              "    }\n",
              "\n",
              "    [theme=dark] .colab-df-convert {\n",
              "      background-color: #3B4455;\n",
              "      fill: #D2E3FC;\n",
              "    }\n",
              "\n",
              "    [theme=dark] .colab-df-convert:hover {\n",
              "      background-color: #434B5C;\n",
              "      box-shadow: 0px 1px 3px 1px rgba(0, 0, 0, 0.15);\n",
              "      filter: drop-shadow(0px 1px 2px rgba(0, 0, 0, 0.3));\n",
              "      fill: #FFFFFF;\n",
              "    }\n",
              "  </style>\n",
              "\n",
              "      <script>\n",
              "        const buttonEl =\n",
              "          document.querySelector('#df-f150efd2-30b7-4b33-b87b-bf8022acf35e button.colab-df-convert');\n",
              "        buttonEl.style.display =\n",
              "          google.colab.kernel.accessAllowed ? 'block' : 'none';\n",
              "\n",
              "        async function convertToInteractive(key) {\n",
              "          const element = document.querySelector('#df-f150efd2-30b7-4b33-b87b-bf8022acf35e');\n",
              "          const dataTable =\n",
              "            await google.colab.kernel.invokeFunction('convertToInteractive',\n",
              "                                                     [key], {});\n",
              "          if (!dataTable) return;\n",
              "\n",
              "          const docLinkHtml = 'Like what you see? Visit the ' +\n",
              "            '<a target=\"_blank\" href=https://colab.research.google.com/notebooks/data_table.ipynb>data table notebook</a>'\n",
              "            + ' to learn more about interactive tables.';\n",
              "          element.innerHTML = '';\n",
              "          dataTable['output_type'] = 'display_data';\n",
              "          await google.colab.output.renderOutput(dataTable, element);\n",
              "          const docLink = document.createElement('div');\n",
              "          docLink.innerHTML = docLinkHtml;\n",
              "          element.appendChild(docLink);\n",
              "        }\n",
              "      </script>\n",
              "    </div>\n",
              "  </div>\n",
              "  "
            ]
          },
          "metadata": {},
          "execution_count": 28
        }
      ],
      "source": [
        "pd.options.display.float_format = \"{:.2f}\".format\n",
        "data.describe(include = \"all\")"
      ]
    },
    {
      "cell_type": "code",
      "execution_count": 29,
      "id": "222b9e0c",
      "metadata": {
        "id": "222b9e0c"
      },
      "outputs": [],
      "source": [
        "data = data.replace(\"NaNNaN\", np.nan, regex = True)"
      ]
    },
    {
      "cell_type": "code",
      "execution_count": 30,
      "id": "58215b5e",
      "metadata": {
        "colab": {
          "base_uri": "https://localhost:8080/"
        },
        "id": "58215b5e",
        "outputId": "4248979c-73f7-4611-b64b-b4afc8284c54"
      },
      "outputs": [
        {
          "output_type": "execute_result",
          "data": {
            "text/plain": [
              "Rank             0\n",
              "Grade            0\n",
              "Channel name     0\n",
              "Video Uploads    0\n",
              "Subscribers      0\n",
              "Video views      0\n",
              "dtype: int64"
            ]
          },
          "metadata": {},
          "execution_count": 30
        }
      ],
      "source": [
        "data.isnull().sum()"
      ]
    },
    {
      "cell_type": "code",
      "execution_count": 31,
      "id": "a0d0aa00",
      "metadata": {
        "colab": {
          "base_uri": "https://localhost:8080/",
          "height": 677
        },
        "id": "a0d0aa00",
        "outputId": "665d242e-af42-44e8-c5e1-dddb388e0a7d"
      },
      "outputs": [
        {
          "output_type": "execute_result",
          "data": {
            "text/plain": [
              "    Rank Grade                Channel name Video Uploads Subscribers  \\\n",
              "0    1st  A++                       Zee TV         82757    18752951   \n",
              "1    2nd  A++                     T-Series         12661    61196302   \n",
              "2    3rd  A++   Cocomelon - Nursery Rhymes           373    19238251   \n",
              "3    4th  A++                    SET India         27323    31180559   \n",
              "4    5th  A++                          WWE         36756    32852346   \n",
              "5    6th  A++                   Movieclips         30243    17149705   \n",
              "6    7th  A++                   netd müzik          8500    11373567   \n",
              "7    8th  A++        ABS-CBN Entertainment        100147    12149206   \n",
              "8    9th  A++              Ryan ToysReview          1140    16082927   \n",
              "9   10th  A++                  Zee Marathi         74607     2841811   \n",
              "10  11th   A+              5-Minute Crafts          2085    33492951   \n",
              "11  12th   A+              Canal KondZilla           822    39409726   \n",
              "12  13th   A+             Like Nastya Vlog           150     7662886   \n",
              "13  14th   A+                        Ozuna            50    18824912   \n",
              "14  15th   A+                   Wave Music         16119    15899764   \n",
              "15  16th   A+                  Ch3Thailand         49239    11569723   \n",
              "16  17th   A+              WORLDSTARHIPHOP          4778    15830098   \n",
              "17  18th   A+              Vlad and Nikita            53         --    \n",
              "18  19th   A+                      Badabun          3060    23603062   \n",
              "19  20th   A+            WorkpointOfficial         24287    17687229   \n",
              "\n",
              "    Video views  \n",
              "0   20869786591  \n",
              "1   47548839843  \n",
              "2    9793305082  \n",
              "3   22675948293  \n",
              "4   26273668433  \n",
              "5   16618094724  \n",
              "6   23898730764  \n",
              "7   17202609850  \n",
              "8   24518098041  \n",
              "9    2591830307  \n",
              "10   8587520379  \n",
              "11  19291034467  \n",
              "12   2540099931  \n",
              "13   8727783225  \n",
              "14  10989179147  \n",
              "15   9388600275  \n",
              "16  11102158475  \n",
              "17   1428274554  \n",
              "18   5860444053  \n",
              "19  14022189654  "
            ],
            "text/html": [
              "\n",
              "  <div id=\"df-19306276-9aa9-4824-bff2-caa0cb5ed3af\">\n",
              "    <div class=\"colab-df-container\">\n",
              "      <div>\n",
              "<style scoped>\n",
              "    .dataframe tbody tr th:only-of-type {\n",
              "        vertical-align: middle;\n",
              "    }\n",
              "\n",
              "    .dataframe tbody tr th {\n",
              "        vertical-align: top;\n",
              "    }\n",
              "\n",
              "    .dataframe thead th {\n",
              "        text-align: right;\n",
              "    }\n",
              "</style>\n",
              "<table border=\"1\" class=\"dataframe\">\n",
              "  <thead>\n",
              "    <tr style=\"text-align: right;\">\n",
              "      <th></th>\n",
              "      <th>Rank</th>\n",
              "      <th>Grade</th>\n",
              "      <th>Channel name</th>\n",
              "      <th>Video Uploads</th>\n",
              "      <th>Subscribers</th>\n",
              "      <th>Video views</th>\n",
              "    </tr>\n",
              "  </thead>\n",
              "  <tbody>\n",
              "    <tr>\n",
              "      <th>0</th>\n",
              "      <td>1st</td>\n",
              "      <td>A++</td>\n",
              "      <td>Zee TV</td>\n",
              "      <td>82757</td>\n",
              "      <td>18752951</td>\n",
              "      <td>20869786591</td>\n",
              "    </tr>\n",
              "    <tr>\n",
              "      <th>1</th>\n",
              "      <td>2nd</td>\n",
              "      <td>A++</td>\n",
              "      <td>T-Series</td>\n",
              "      <td>12661</td>\n",
              "      <td>61196302</td>\n",
              "      <td>47548839843</td>\n",
              "    </tr>\n",
              "    <tr>\n",
              "      <th>2</th>\n",
              "      <td>3rd</td>\n",
              "      <td>A++</td>\n",
              "      <td>Cocomelon - Nursery Rhymes</td>\n",
              "      <td>373</td>\n",
              "      <td>19238251</td>\n",
              "      <td>9793305082</td>\n",
              "    </tr>\n",
              "    <tr>\n",
              "      <th>3</th>\n",
              "      <td>4th</td>\n",
              "      <td>A++</td>\n",
              "      <td>SET India</td>\n",
              "      <td>27323</td>\n",
              "      <td>31180559</td>\n",
              "      <td>22675948293</td>\n",
              "    </tr>\n",
              "    <tr>\n",
              "      <th>4</th>\n",
              "      <td>5th</td>\n",
              "      <td>A++</td>\n",
              "      <td>WWE</td>\n",
              "      <td>36756</td>\n",
              "      <td>32852346</td>\n",
              "      <td>26273668433</td>\n",
              "    </tr>\n",
              "    <tr>\n",
              "      <th>5</th>\n",
              "      <td>6th</td>\n",
              "      <td>A++</td>\n",
              "      <td>Movieclips</td>\n",
              "      <td>30243</td>\n",
              "      <td>17149705</td>\n",
              "      <td>16618094724</td>\n",
              "    </tr>\n",
              "    <tr>\n",
              "      <th>6</th>\n",
              "      <td>7th</td>\n",
              "      <td>A++</td>\n",
              "      <td>netd müzik</td>\n",
              "      <td>8500</td>\n",
              "      <td>11373567</td>\n",
              "      <td>23898730764</td>\n",
              "    </tr>\n",
              "    <tr>\n",
              "      <th>7</th>\n",
              "      <td>8th</td>\n",
              "      <td>A++</td>\n",
              "      <td>ABS-CBN Entertainment</td>\n",
              "      <td>100147</td>\n",
              "      <td>12149206</td>\n",
              "      <td>17202609850</td>\n",
              "    </tr>\n",
              "    <tr>\n",
              "      <th>8</th>\n",
              "      <td>9th</td>\n",
              "      <td>A++</td>\n",
              "      <td>Ryan ToysReview</td>\n",
              "      <td>1140</td>\n",
              "      <td>16082927</td>\n",
              "      <td>24518098041</td>\n",
              "    </tr>\n",
              "    <tr>\n",
              "      <th>9</th>\n",
              "      <td>10th</td>\n",
              "      <td>A++</td>\n",
              "      <td>Zee Marathi</td>\n",
              "      <td>74607</td>\n",
              "      <td>2841811</td>\n",
              "      <td>2591830307</td>\n",
              "    </tr>\n",
              "    <tr>\n",
              "      <th>10</th>\n",
              "      <td>11th</td>\n",
              "      <td>A+</td>\n",
              "      <td>5-Minute Crafts</td>\n",
              "      <td>2085</td>\n",
              "      <td>33492951</td>\n",
              "      <td>8587520379</td>\n",
              "    </tr>\n",
              "    <tr>\n",
              "      <th>11</th>\n",
              "      <td>12th</td>\n",
              "      <td>A+</td>\n",
              "      <td>Canal KondZilla</td>\n",
              "      <td>822</td>\n",
              "      <td>39409726</td>\n",
              "      <td>19291034467</td>\n",
              "    </tr>\n",
              "    <tr>\n",
              "      <th>12</th>\n",
              "      <td>13th</td>\n",
              "      <td>A+</td>\n",
              "      <td>Like Nastya Vlog</td>\n",
              "      <td>150</td>\n",
              "      <td>7662886</td>\n",
              "      <td>2540099931</td>\n",
              "    </tr>\n",
              "    <tr>\n",
              "      <th>13</th>\n",
              "      <td>14th</td>\n",
              "      <td>A+</td>\n",
              "      <td>Ozuna</td>\n",
              "      <td>50</td>\n",
              "      <td>18824912</td>\n",
              "      <td>8727783225</td>\n",
              "    </tr>\n",
              "    <tr>\n",
              "      <th>14</th>\n",
              "      <td>15th</td>\n",
              "      <td>A+</td>\n",
              "      <td>Wave Music</td>\n",
              "      <td>16119</td>\n",
              "      <td>15899764</td>\n",
              "      <td>10989179147</td>\n",
              "    </tr>\n",
              "    <tr>\n",
              "      <th>15</th>\n",
              "      <td>16th</td>\n",
              "      <td>A+</td>\n",
              "      <td>Ch3Thailand</td>\n",
              "      <td>49239</td>\n",
              "      <td>11569723</td>\n",
              "      <td>9388600275</td>\n",
              "    </tr>\n",
              "    <tr>\n",
              "      <th>16</th>\n",
              "      <td>17th</td>\n",
              "      <td>A+</td>\n",
              "      <td>WORLDSTARHIPHOP</td>\n",
              "      <td>4778</td>\n",
              "      <td>15830098</td>\n",
              "      <td>11102158475</td>\n",
              "    </tr>\n",
              "    <tr>\n",
              "      <th>17</th>\n",
              "      <td>18th</td>\n",
              "      <td>A+</td>\n",
              "      <td>Vlad and Nikita</td>\n",
              "      <td>53</td>\n",
              "      <td>--</td>\n",
              "      <td>1428274554</td>\n",
              "    </tr>\n",
              "    <tr>\n",
              "      <th>18</th>\n",
              "      <td>19th</td>\n",
              "      <td>A+</td>\n",
              "      <td>Badabun</td>\n",
              "      <td>3060</td>\n",
              "      <td>23603062</td>\n",
              "      <td>5860444053</td>\n",
              "    </tr>\n",
              "    <tr>\n",
              "      <th>19</th>\n",
              "      <td>20th</td>\n",
              "      <td>A+</td>\n",
              "      <td>WorkpointOfficial</td>\n",
              "      <td>24287</td>\n",
              "      <td>17687229</td>\n",
              "      <td>14022189654</td>\n",
              "    </tr>\n",
              "  </tbody>\n",
              "</table>\n",
              "</div>\n",
              "      <button class=\"colab-df-convert\" onclick=\"convertToInteractive('df-19306276-9aa9-4824-bff2-caa0cb5ed3af')\"\n",
              "              title=\"Convert this dataframe to an interactive table.\"\n",
              "              style=\"display:none;\">\n",
              "        \n",
              "  <svg xmlns=\"http://www.w3.org/2000/svg\" height=\"24px\"viewBox=\"0 0 24 24\"\n",
              "       width=\"24px\">\n",
              "    <path d=\"M0 0h24v24H0V0z\" fill=\"none\"/>\n",
              "    <path d=\"M18.56 5.44l.94 2.06.94-2.06 2.06-.94-2.06-.94-.94-2.06-.94 2.06-2.06.94zm-11 1L8.5 8.5l.94-2.06 2.06-.94-2.06-.94L8.5 2.5l-.94 2.06-2.06.94zm10 10l.94 2.06.94-2.06 2.06-.94-2.06-.94-.94-2.06-.94 2.06-2.06.94z\"/><path d=\"M17.41 7.96l-1.37-1.37c-.4-.4-.92-.59-1.43-.59-.52 0-1.04.2-1.43.59L10.3 9.45l-7.72 7.72c-.78.78-.78 2.05 0 2.83L4 21.41c.39.39.9.59 1.41.59.51 0 1.02-.2 1.41-.59l7.78-7.78 2.81-2.81c.8-.78.8-2.07 0-2.86zM5.41 20L4 18.59l7.72-7.72 1.47 1.35L5.41 20z\"/>\n",
              "  </svg>\n",
              "      </button>\n",
              "      \n",
              "  <style>\n",
              "    .colab-df-container {\n",
              "      display:flex;\n",
              "      flex-wrap:wrap;\n",
              "      gap: 12px;\n",
              "    }\n",
              "\n",
              "    .colab-df-convert {\n",
              "      background-color: #E8F0FE;\n",
              "      border: none;\n",
              "      border-radius: 50%;\n",
              "      cursor: pointer;\n",
              "      display: none;\n",
              "      fill: #1967D2;\n",
              "      height: 32px;\n",
              "      padding: 0 0 0 0;\n",
              "      width: 32px;\n",
              "    }\n",
              "\n",
              "    .colab-df-convert:hover {\n",
              "      background-color: #E2EBFA;\n",
              "      box-shadow: 0px 1px 2px rgba(60, 64, 67, 0.3), 0px 1px 3px 1px rgba(60, 64, 67, 0.15);\n",
              "      fill: #174EA6;\n",
              "    }\n",
              "\n",
              "    [theme=dark] .colab-df-convert {\n",
              "      background-color: #3B4455;\n",
              "      fill: #D2E3FC;\n",
              "    }\n",
              "\n",
              "    [theme=dark] .colab-df-convert:hover {\n",
              "      background-color: #434B5C;\n",
              "      box-shadow: 0px 1px 3px 1px rgba(0, 0, 0, 0.15);\n",
              "      filter: drop-shadow(0px 1px 2px rgba(0, 0, 0, 0.3));\n",
              "      fill: #FFFFFF;\n",
              "    }\n",
              "  </style>\n",
              "\n",
              "      <script>\n",
              "        const buttonEl =\n",
              "          document.querySelector('#df-19306276-9aa9-4824-bff2-caa0cb5ed3af button.colab-df-convert');\n",
              "        buttonEl.style.display =\n",
              "          google.colab.kernel.accessAllowed ? 'block' : 'none';\n",
              "\n",
              "        async function convertToInteractive(key) {\n",
              "          const element = document.querySelector('#df-19306276-9aa9-4824-bff2-caa0cb5ed3af');\n",
              "          const dataTable =\n",
              "            await google.colab.kernel.invokeFunction('convertToInteractive',\n",
              "                                                     [key], {});\n",
              "          if (!dataTable) return;\n",
              "\n",
              "          const docLinkHtml = 'Like what you see? Visit the ' +\n",
              "            '<a target=\"_blank\" href=https://colab.research.google.com/notebooks/data_table.ipynb>data table notebook</a>'\n",
              "            + ' to learn more about interactive tables.';\n",
              "          element.innerHTML = '';\n",
              "          dataTable['output_type'] = 'display_data';\n",
              "          await google.colab.output.renderOutput(dataTable, element);\n",
              "          const docLink = document.createElement('div');\n",
              "          docLink.innerHTML = docLinkHtml;\n",
              "          element.appendChild(docLink);\n",
              "        }\n",
              "      </script>\n",
              "    </div>\n",
              "  </div>\n",
              "  "
            ]
          },
          "metadata": {},
          "execution_count": 31
        }
      ],
      "source": [
        "data.head(20)"
      ]
    },
    {
      "cell_type": "code",
      "execution_count": 32,
      "id": "6d22b37a",
      "metadata": {
        "colab": {
          "base_uri": "https://localhost:8080/"
        },
        "id": "6d22b37a",
        "outputId": "df80dafd-b434-48c4-cbc1-a73a282c04f3"
      },
      "outputs": [
        {
          "output_type": "execute_result",
          "data": {
            "text/plain": [
              "Rank             0\n",
              "Grade            0\n",
              "Channel name     0\n",
              "Video Uploads    0\n",
              "Subscribers      0\n",
              "Video views      0\n",
              "dtype: int64"
            ]
          },
          "metadata": {},
          "execution_count": 32
        }
      ],
      "source": [
        "data.isnull().sum()\n"
      ]
    },
    {
      "cell_type": "code",
      "execution_count": 33,
      "id": "b2c4a485",
      "metadata": {
        "colab": {
          "base_uri": "https://localhost:8080/"
        },
        "id": "b2c4a485",
        "outputId": "44e34081-f46a-41a8-f091-ddb839ecd4ae"
      },
      "outputs": [
        {
          "output_type": "execute_result",
          "data": {
            "text/plain": [
              "Rank            0.00\n",
              "Grade           0.00\n",
              "Channel name    0.00\n",
              "Video Uploads   0.00\n",
              "Subscribers     0.00\n",
              "Video views     0.00\n",
              "dtype: float64"
            ]
          },
          "metadata": {},
          "execution_count": 33
        }
      ],
      "source": [
        "data_missing = data.isnull().sum() * 100/len(data)\n",
        "data_missing"
      ]
    },
    {
      "cell_type": "code",
      "execution_count": 34,
      "id": "24c1e66d",
      "metadata": {
        "colab": {
          "base_uri": "https://localhost:8080/",
          "height": 350
        },
        "id": "24c1e66d",
        "outputId": "1f380dae-3637-451b-8c17-36df27855235"
      },
      "outputs": [
        {
          "output_type": "execute_result",
          "data": {
            "text/plain": [
              "<AxesSubplot:>"
            ]
          },
          "metadata": {},
          "execution_count": 34
        },
        {
          "output_type": "display_data",
          "data": {
            "text/plain": [
              "<Figure size 432x288 with 2 Axes>"
            ],
            "image/png": "[encoded data removed]"
          },
          "metadata": {
            "needs_background": "light"
          }
        }
      ],
      "source": [
        "sns.heatmap(data.isnull())\n"
      ]
    },
    {
      "cell_type": "code",
      "execution_count": 35,
      "id": "698550f7",
      "metadata": {
        "id": "698550f7"
      },
      "outputs": [],
      "source": [
        "#droping missing values\n",
        "data.dropna(axis = 0, inplace = True)"
      ]
    },
    {
      "cell_type": "code",
      "execution_count": 36,
      "id": "c585ef3c",
      "metadata": {
        "colab": {
          "base_uri": "https://localhost:8080/"
        },
        "id": "c585ef3c",
        "outputId": "4f166834-0848-4642-e928-6b391ca52083"
      },
      "outputs": [
        {
          "output_type": "execute_result",
          "data": {
            "text/plain": [
              "4995    4,996th\n",
              "4996    4,997th\n",
              "4997    4,998th\n",
              "4998    4,999th\n",
              "4999    5,000th\n",
              "Name: Rank, dtype: object"
            ]
          },
          "metadata": {},
          "execution_count": 36
        }
      ],
      "source": [
        "#cleaning rank column\n",
        "data[\"Rank\"].tail()"
      ]
    },
    {
      "cell_type": "code",
      "execution_count": 37,
      "id": "3ac16464",
      "metadata": {
        "colab": {
          "base_uri": "https://localhost:8080/"
        },
        "id": "3ac16464",
        "outputId": "2e71cf34-01c8-4ed2-9f19-7023e0ff4552"
      },
      "outputs": [
        {
          "output_type": "execute_result",
          "data": {
            "text/plain": [
              "4995    4996\n",
              "4996    4997\n",
              "4997    4998\n",
              "4998    4999\n",
              "4999    5000\n",
              "Name: Rank, dtype: object"
            ]
          },
          "metadata": {},
          "execution_count": 37
        }
      ],
      "source": [
        "data[\"Rank\"] = data[\"Rank\"].str.replace(\",\", \"\")\n",
        "data[\"Rank\"] = data[\"Rank\"].str[:-2]\n",
        "data[\"Rank\"].tail()"
      ]
    },
    {
      "cell_type": "code",
      "execution_count": 38,
      "id": "1a743236",
      "metadata": {
        "colab": {
          "base_uri": "https://localhost:8080/"
        },
        "id": "1a743236",
        "outputId": "9e54ca99-634c-4f38-a706-2f983b3de6f3"
      },
      "outputs": [
        {
          "output_type": "execute_result",
          "data": {
            "text/plain": [
              "dtype('int64')"
            ]
          },
          "metadata": {},
          "execution_count": 38
        }
      ],
      "source": [
        "data[\"Rank\"] = data[\"Rank\"].astype(\"int\")\n",
        "data[\"Rank\"].dtypes\n"
      ]
    },
    {
      "cell_type": "code",
      "execution_count": 39,
      "id": "1ea7a06f",
      "metadata": {
        "colab": {
          "base_uri": "https://localhost:8080/"
        },
        "id": "1ea7a06f",
        "outputId": "ee45ce26-f2c9-4b66-c4a7-ecb16b59561c"
      },
      "outputs": [
        {
          "output_type": "execute_result",
          "data": {
            "text/plain": [
              "Rank              int64\n",
              "Grade            object\n",
              "Channel name     object\n",
              "Video Uploads    object\n",
              "Subscribers      object\n",
              "Video views       int64\n",
              "dtype: object"
            ]
          },
          "metadata": {},
          "execution_count": 39
        }
      ],
      "source": [
        "data.dtypes"
      ]
    },
    {
      "cell_type": "code",
      "source": [
        "data[\"Video Uploads\"] = data[\"Video Uploads\"].replace(\"--\", np.NaN)\n",
        "data[\"Subscribers\"] = data[\"Subscribers\"].replace(\"--\", np.NaN)\n",
        "data[\"Subscribers\"] = data[\"Subscribers\"].replace(\"-- \", np.NaN)\n",
        "data.dropna(axis = 0, inplace = True)"
      ],
      "metadata": {
        "id": "3DAnxDEQvy8J"
      },
      "id": "3DAnxDEQvy8J",
      "execution_count": 61,
      "outputs": []
    },
    {
      "cell_type": "code",
      "execution_count": 64,
      "id": "c7e483e3",
      "metadata": {
        "colab": {
          "base_uri": "https://localhost:8080/"
        },
        "id": "c7e483e3",
        "outputId": "436a156b-b264-468e-a297-f67c3fe0e450"
      },
      "outputs": [
        {
          "output_type": "execute_result",
          "data": {
            "text/plain": [
              "Rank              int64\n",
              "Grade            object\n",
              "Channel name     object\n",
              "Video Uploads     int64\n",
              "Subscribers       int64\n",
              "Video views       int64\n",
              "dtype: object"
            ]
          },
          "metadata": {},
          "execution_count": 64
        }
      ],
      "source": [
        "data[\"Video Uploads\"] = data[\"Video Uploads\"].astype(\"int\")\n",
        "data[\"Subscribers\"] = data[\"Subscribers\"].astype(\"int\")\n",
        "data.dtypes"
      ]
    },
    {
      "cell_type": "code",
      "execution_count": 65,
      "id": "960a9694",
      "metadata": {
        "colab": {
          "base_uri": "https://localhost:8080/"
        },
        "id": "960a9694",
        "outputId": "c144c678-6045-448d-cf52-fead5f259a5d"
      },
      "outputs": [
        {
          "output_type": "execute_result",
          "data": {
            "text/plain": [
              "B+      2722\n",
              "A-       941\n",
              "A        897\n",
              "A+        40\n",
              "A++       10\n",
              "Name: Grade, dtype: int64"
            ]
          },
          "metadata": {},
          "execution_count": 65
        }
      ],
      "source": [
        "data[\"Grade\"].value_counts()"
      ]
    },
    {
      "cell_type": "code",
      "execution_count": 66,
      "id": "302f96bc",
      "metadata": {
        "id": "302f96bc"
      },
      "outputs": [],
      "source": [
        "data[\"Grade\"] = data[\"Grade\"].map({\"A++ \":5, \"A+ \":4, \"A \":3, \"A- \":2, \"B+ \":1})\n",
        "data[\"Grade\"] = data[\"Grade\"].astype(\"int\")"
      ]
    },
    {
      "cell_type": "code",
      "execution_count": 67,
      "id": "2ed95ba0",
      "metadata": {
        "colab": {
          "base_uri": "https://localhost:8080/"
        },
        "id": "2ed95ba0",
        "outputId": "e575bf9d-f646-41cc-fc0f-552be7c5f748"
      },
      "outputs": [
        {
          "output_type": "execute_result",
          "data": {
            "text/plain": [
              "Rank              int64\n",
              "Grade             int64\n",
              "Channel name     object\n",
              "Video Uploads     int64\n",
              "Subscribers       int64\n",
              "Video views       int64\n",
              "dtype: object"
            ]
          },
          "metadata": {},
          "execution_count": 67
        }
      ],
      "source": [
        "data.dtypes"
      ]
    },
    {
      "cell_type": "code",
      "execution_count": 68,
      "id": "959197cd",
      "metadata": {
        "colab": {
          "base_uri": "https://localhost:8080/"
        },
        "id": "959197cd",
        "outputId": "3b2ccce9-5117-4e5b-ec7e-c53c3863982f"
      },
      "outputs": [
        {
          "output_type": "execute_result",
          "data": {
            "text/plain": [
              "array([5, 4, 3, 2, 1])"
            ]
          },
          "metadata": {},
          "execution_count": 68
        }
      ],
      "source": [
        "data.dropna(axis = 0, inplace = True)\n",
        "data[\"Grade\"].unique()"
      ]
    },
    {
      "cell_type": "code",
      "execution_count": 69,
      "id": "2ce78db6",
      "metadata": {
        "colab": {
          "base_uri": "https://localhost:8080/"
        },
        "id": "2ce78db6",
        "outputId": "f6c5b456-5bcf-43ee-9a02-078f7ba61d0c"
      },
      "outputs": [
        {
          "output_type": "execute_result",
          "data": {
            "text/plain": [
              "Index(['Rank', 'Grade', 'Channel name', 'Video Uploads', 'Subscribers',\n",
              "       'Video views'],\n",
              "      dtype='object')"
            ]
          },
          "metadata": {},
          "execution_count": 69
        }
      ],
      "source": [
        "data.columns"
      ]
    },
    {
      "cell_type": "code",
      "execution_count": 70,
      "id": "b211f72e",
      "metadata": {
        "colab": {
          "base_uri": "https://localhost:8080/",
          "height": 112
        },
        "id": "b211f72e",
        "outputId": "a923564e-9510-4b02-9719-f5110b89acfc"
      },
      "outputs": [
        {
          "output_type": "execute_result",
          "data": {
            "text/plain": [
              "   Rank  Grade Channel name  Video Uploads  Subscribers  Video views  \\\n",
              "0     1      5       Zee TV          82757     18752951  20869786591   \n",
              "1     2      5     T-Series          12661     61196302  47548839843   \n",
              "\n",
              "   Avg_viewe  \n",
              "0  252181.53  \n",
              "1 3755535.89  "
            ],
            "text/html": [
              "\n",
              "  <div id=\"df-212d2d9e-e000-4fec-888c-b5c1802d96c0\">\n",
              "    <div class=\"colab-df-container\">\n",
              "      <div>\n",
              "<style scoped>\n",
              "    .dataframe tbody tr th:only-of-type {\n",
              "        vertical-align: middle;\n",
              "    }\n",
              "\n",
              "    .dataframe tbody tr th {\n",
              "        vertical-align: top;\n",
              "    }\n",
              "\n",
              "    .dataframe thead th {\n",
              "        text-align: right;\n",
              "    }\n",
              "</style>\n",
              "<table border=\"1\" class=\"dataframe\">\n",
              "  <thead>\n",
              "    <tr style=\"text-align: right;\">\n",
              "      <th></th>\n",
              "      <th>Rank</th>\n",
              "      <th>Grade</th>\n",
              "      <th>Channel name</th>\n",
              "      <th>Video Uploads</th>\n",
              "      <th>Subscribers</th>\n",
              "      <th>Video views</th>\n",
              "      <th>Avg_viewe</th>\n",
              "    </tr>\n",
              "  </thead>\n",
              "  <tbody>\n",
              "    <tr>\n",
              "      <th>0</th>\n",
              "      <td>1</td>\n",
              "      <td>5</td>\n",
              "      <td>Zee TV</td>\n",
              "      <td>82757</td>\n",
              "      <td>18752951</td>\n",
              "      <td>20869786591</td>\n",
              "      <td>252181.53</td>\n",
              "    </tr>\n",
              "    <tr>\n",
              "      <th>1</th>\n",
              "      <td>2</td>\n",
              "      <td>5</td>\n",
              "      <td>T-Series</td>\n",
              "      <td>12661</td>\n",
              "      <td>61196302</td>\n",
              "      <td>47548839843</td>\n",
              "      <td>3755535.89</td>\n",
              "    </tr>\n",
              "  </tbody>\n",
              "</table>\n",
              "</div>\n",
              "      <button class=\"colab-df-convert\" onclick=\"convertToInteractive('df-212d2d9e-e000-4fec-888c-b5c1802d96c0')\"\n",
              "              title=\"Convert this dataframe to an interactive table.\"\n",
              "              style=\"display:none;\">\n",
              "        \n",
              "  <svg xmlns=\"http://www.w3.org/2000/svg\" height=\"24px\"viewBox=\"0 0 24 24\"\n",
              "       width=\"24px\">\n",
              "    <path d=\"M0 0h24v24H0V0z\" fill=\"none\"/>\n",
              "    <path d=\"M18.56 5.44l.94 2.06.94-2.06 2.06-.94-2.06-.94-.94-2.06-.94 2.06-2.06.94zm-11 1L8.5 8.5l.94-2.06 2.06-.94-2.06-.94L8.5 2.5l-.94 2.06-2.06.94zm10 10l.94 2.06.94-2.06 2.06-.94-2.06-.94-.94-2.06-.94 2.06-2.06.94z\"/><path d=\"M17.41 7.96l-1.37-1.37c-.4-.4-.92-.59-1.43-.59-.52 0-1.04.2-1.43.59L10.3 9.45l-7.72 7.72c-.78.78-.78 2.05 0 2.83L4 21.41c.39.39.9.59 1.41.59.51 0 1.02-.2 1.41-.59l7.78-7.78 2.81-2.81c.8-.78.8-2.07 0-2.86zM5.41 20L4 18.59l7.72-7.72 1.47 1.35L5.41 20z\"/>\n",
              "  </svg>\n",
              "      </button>\n",
              "      \n",
              "  <style>\n",
              "    .colab-df-container {\n",
              "      display:flex;\n",
              "      flex-wrap:wrap;\n",
              "      gap: 12px;\n",
              "    }\n",
              "\n",
              "    .colab-df-convert {\n",
              "      background-color: #E8F0FE;\n",
              "      border: none;\n",
              "      border-radius: 50%;\n",
              "      cursor: pointer;\n",
              "      display: none;\n",
              "      fill: #1967D2;\n",
              "      height: 32px;\n",
              "      padding: 0 0 0 0;\n",
              "      width: 32px;\n",
              "    }\n",
              "\n",
              "    .colab-df-convert:hover {\n",
              "      background-color: #E2EBFA;\n",
              "      box-shadow: 0px 1px 2px rgba(60, 64, 67, 0.3), 0px 1px 3px 1px rgba(60, 64, 67, 0.15);\n",
              "      fill: #174EA6;\n",
              "    }\n",
              "\n",
              "    [theme=dark] .colab-df-convert {\n",
              "      background-color: #3B4455;\n",
              "      fill: #D2E3FC;\n",
              "    }\n",
              "\n",
              "    [theme=dark] .colab-df-convert:hover {\n",
              "      background-color: #434B5C;\n",
              "      box-shadow: 0px 1px 3px 1px rgba(0, 0, 0, 0.15);\n",
              "      filter: drop-shadow(0px 1px 2px rgba(0, 0, 0, 0.3));\n",
              "      fill: #FFFFFF;\n",
              "    }\n",
              "  </style>\n",
              "\n",
              "      <script>\n",
              "        const buttonEl =\n",
              "          document.querySelector('#df-212d2d9e-e000-4fec-888c-b5c1802d96c0 button.colab-df-convert');\n",
              "        buttonEl.style.display =\n",
              "          google.colab.kernel.accessAllowed ? 'block' : 'none';\n",
              "\n",
              "        async function convertToInteractive(key) {\n",
              "          const element = document.querySelector('#df-212d2d9e-e000-4fec-888c-b5c1802d96c0');\n",
              "          const dataTable =\n",
              "            await google.colab.kernel.invokeFunction('convertToInteractive',\n",
              "                                                     [key], {});\n",
              "          if (!dataTable) return;\n",
              "\n",
              "          const docLinkHtml = 'Like what you see? Visit the ' +\n",
              "            '<a target=\"_blank\" href=https://colab.research.google.com/notebooks/data_table.ipynb>data table notebook</a>'\n",
              "            + ' to learn more about interactive tables.';\n",
              "          element.innerHTML = '';\n",
              "          dataTable['output_type'] = 'display_data';\n",
              "          await google.colab.output.renderOutput(dataTable, element);\n",
              "          const docLink = document.createElement('div');\n",
              "          docLink.innerHTML = docLinkHtml;\n",
              "          element.appendChild(docLink);\n",
              "        }\n",
              "      </script>\n",
              "    </div>\n",
              "  </div>\n",
              "  "
            ]
          },
          "metadata": {},
          "execution_count": 70
        }
      ],
      "source": [
        "data[\"Avg_viewe\"] = data[\"Video views\"]/data[\"Video Uploads\"]\n",
        "data.head(2)\n"
      ]
    },
    {
      "cell_type": "code",
      "source": [
        "data.columns"
      ],
      "metadata": {
        "colab": {
          "base_uri": "https://localhost:8080/"
        },
        "id": "dHt4GZmwhG5k",
        "outputId": "aa5611cc-e77b-46bb-9cf1-c0af85018434"
      },
      "id": "dHt4GZmwhG5k",
      "execution_count": 71,
      "outputs": [
        {
          "output_type": "execute_result",
          "data": {
            "text/plain": [
              "Index(['Rank', 'Grade', 'Channel name', 'Video Uploads', 'Subscribers',\n",
              "       'Video views', 'Avg_viewe'],\n",
              "      dtype='object')"
            ]
          },
          "metadata": {},
          "execution_count": 71
        }
      ]
    },
    {
      "cell_type": "code",
      "execution_count": 72,
      "id": "dc5c3295",
      "metadata": {
        "colab": {
          "base_uri": "https://localhost:8080/",
          "height": 296
        },
        "id": "dc5c3295",
        "outputId": "21fd6533-75bc-411d-c3c8-72817a0352f9"
      },
      "outputs": [
        {
          "output_type": "execute_result",
          "data": {
            "text/plain": [
              "<AxesSubplot:xlabel='Video Uploads', ylabel='Channel name'>"
            ]
          },
          "metadata": {},
          "execution_count": 72
        },
        {
          "output_type": "display_data",
          "data": {
            "text/plain": [
              "<Figure size 432x288 with 1 Axes>"
            ],
            "image/png": "[encoded data removed]"
          },
          "metadata": {
            "needs_background": "light"
          }
        }
      ],
      "source": [
        "#top 5 channels with more videos uploaed\n",
        "a = data.sort_values(by = \"Video Uploads\", ascending = False).head()\n",
        "sns.barplot(x = \"Video Uploads\", y = \"Channel name\", data = a)"
      ]
    },
    {
      "cell_type": "code",
      "execution_count": 73,
      "id": "5be7884c",
      "metadata": {
        "colab": {
          "base_uri": "https://localhost:8080/",
          "height": 238
        },
        "id": "5be7884c",
        "outputId": "2bd19592-e1a9-416a-b2b9-9df220e62aec"
      },
      "outputs": [
        {
          "output_type": "execute_result",
          "data": {
            "text/plain": [
              "               Rank  Grade  Video Uploads  Subscribers  Video views  Avg_viewe\n",
              "Rank           1.00  -0.87          -0.07        -0.38        -0.40      -0.15\n",
              "Grade         -0.87   1.00           0.09         0.43         0.48       0.16\n",
              "Video Uploads -0.07   0.09           1.00         0.01         0.09      -0.06\n",
              "Subscribers   -0.38   0.43           0.01         1.00         0.79       0.29\n",
              "Video views   -0.40   0.48           0.09         0.79         1.00       0.29\n",
              "Avg_viewe     -0.15   0.16          -0.06         0.29         0.29       1.00"
            ],
            "text/html": [
              "\n",
              "  <div id=\"df-86de02da-84e9-45d7-9d44-9424139d437d\">\n",
              "    <div class=\"colab-df-container\">\n",
              "      <div>\n",
              "<style scoped>\n",
              "    .dataframe tbody tr th:only-of-type {\n",
              "        vertical-align: middle;\n",
              "    }\n",
              "\n",
              "    .dataframe tbody tr th {\n",
              "        vertical-align: top;\n",
              "    }\n",
              "\n",
              "    .dataframe thead th {\n",
              "        text-align: right;\n",
              "    }\n",
              "</style>\n",
              "<table border=\"1\" class=\"dataframe\">\n",
              "  <thead>\n",
              "    <tr style=\"text-align: right;\">\n",
              "      <th></th>\n",
              "      <th>Rank</th>\n",
              "      <th>Grade</th>\n",
              "      <th>Video Uploads</th>\n",
              "      <th>Subscribers</th>\n",
              "      <th>Video views</th>\n",
              "      <th>Avg_viewe</th>\n",
              "    </tr>\n",
              "  </thead>\n",
              "  <tbody>\n",
              "    <tr>\n",
              "      <th>Rank</th>\n",
              "      <td>1.00</td>\n",
              "      <td>-0.87</td>\n",
              "      <td>-0.07</td>\n",
              "      <td>-0.38</td>\n",
              "      <td>-0.40</td>\n",
              "      <td>-0.15</td>\n",
              "    </tr>\n",
              "    <tr>\n",
              "      <th>Grade</th>\n",
              "      <td>-0.87</td>\n",
              "      <td>1.00</td>\n",
              "      <td>0.09</td>\n",
              "      <td>0.43</td>\n",
              "      <td>0.48</td>\n",
              "      <td>0.16</td>\n",
              "    </tr>\n",
              "    <tr>\n",
              "      <th>Video Uploads</th>\n",
              "      <td>-0.07</td>\n",
              "      <td>0.09</td>\n",
              "      <td>1.00</td>\n",
              "      <td>0.01</td>\n",
              "      <td>0.09</td>\n",
              "      <td>-0.06</td>\n",
              "    </tr>\n",
              "    <tr>\n",
              "      <th>Subscribers</th>\n",
              "      <td>-0.38</td>\n",
              "      <td>0.43</td>\n",
              "      <td>0.01</td>\n",
              "      <td>1.00</td>\n",
              "      <td>0.79</td>\n",
              "      <td>0.29</td>\n",
              "    </tr>\n",
              "    <tr>\n",
              "      <th>Video views</th>\n",
              "      <td>-0.40</td>\n",
              "      <td>0.48</td>\n",
              "      <td>0.09</td>\n",
              "      <td>0.79</td>\n",
              "      <td>1.00</td>\n",
              "      <td>0.29</td>\n",
              "    </tr>\n",
              "    <tr>\n",
              "      <th>Avg_viewe</th>\n",
              "      <td>-0.15</td>\n",
              "      <td>0.16</td>\n",
              "      <td>-0.06</td>\n",
              "      <td>0.29</td>\n",
              "      <td>0.29</td>\n",
              "      <td>1.00</td>\n",
              "    </tr>\n",
              "  </tbody>\n",
              "</table>\n",
              "</div>\n",
              "      <button class=\"colab-df-convert\" onclick=\"convertToInteractive('df-86de02da-84e9-45d7-9d44-9424139d437d')\"\n",
              "              title=\"Convert this dataframe to an interactive table.\"\n",
              "              style=\"display:none;\">\n",
              "        \n",
              "  <svg xmlns=\"http://www.w3.org/2000/svg\" height=\"24px\"viewBox=\"0 0 24 24\"\n",
              "       width=\"24px\">\n",
              "    <path d=\"M0 0h24v24H0V0z\" fill=\"none\"/>\n",
              "    <path d=\"M18.56 5.44l.94 2.06.94-2.06 2.06-.94-2.06-.94-.94-2.06-.94 2.06-2.06.94zm-11 1L8.5 8.5l.94-2.06 2.06-.94-2.06-.94L8.5 2.5l-.94 2.06-2.06.94zm10 10l.94 2.06.94-2.06 2.06-.94-2.06-.94-.94-2.06-.94 2.06-2.06.94z\"/><path d=\"M17.41 7.96l-1.37-1.37c-.4-.4-.92-.59-1.43-.59-.52 0-1.04.2-1.43.59L10.3 9.45l-7.72 7.72c-.78.78-.78 2.05 0 2.83L4 21.41c.39.39.9.59 1.41.59.51 0 1.02-.2 1.41-.59l7.78-7.78 2.81-2.81c.8-.78.8-2.07 0-2.86zM5.41 20L4 18.59l7.72-7.72 1.47 1.35L5.41 20z\"/>\n",
              "  </svg>\n",
              "      </button>\n",
              "      \n",
              "  <style>\n",
              "    .colab-df-container {\n",
              "      display:flex;\n",
              "      flex-wrap:wrap;\n",
              "      gap: 12px;\n",
              "    }\n",
              "\n",
              "    .colab-df-convert {\n",
              "      background-color: #E8F0FE;\n",
              "      border: none;\n",
              "      border-radius: 50%;\n",
              "      cursor: pointer;\n",
              "      display: none;\n",
              "      fill: #1967D2;\n",
              "      height: 32px;\n",
              "      padding: 0 0 0 0;\n",
              "      width: 32px;\n",
              "    }\n",
              "\n",
              "    .colab-df-convert:hover {\n",
              "      background-color: #E2EBFA;\n",
              "      box-shadow: 0px 1px 2px rgba(60, 64, 67, 0.3), 0px 1px 3px 1px rgba(60, 64, 67, 0.15);\n",
              "      fill: #174EA6;\n",
              "    }\n",
              "\n",
              "    [theme=dark] .colab-df-convert {\n",
              "      background-color: #3B4455;\n",
              "      fill: #D2E3FC;\n",
              "    }\n",
              "\n",
              "    [theme=dark] .colab-df-convert:hover {\n",
              "      background-color: #434B5C;\n",
              "      box-shadow: 0px 1px 3px 1px rgba(0, 0, 0, 0.15);\n",
              "      filter: drop-shadow(0px 1px 2px rgba(0, 0, 0, 0.3));\n",
              "      fill: #FFFFFF;\n",
              "    }\n",
              "  </style>\n",
              "\n",
              "      <script>\n",
              "        const buttonEl =\n",
              "          document.querySelector('#df-86de02da-84e9-45d7-9d44-9424139d437d button.colab-df-convert');\n",
              "        buttonEl.style.display =\n",
              "          google.colab.kernel.accessAllowed ? 'block' : 'none';\n",
              "\n",
              "        async function convertToInteractive(key) {\n",
              "          const element = document.querySelector('#df-86de02da-84e9-45d7-9d44-9424139d437d');\n",
              "          const dataTable =\n",
              "            await google.colab.kernel.invokeFunction('convertToInteractive',\n",
              "                                                     [key], {});\n",
              "          if (!dataTable) return;\n",
              "\n",
              "          const docLinkHtml = 'Like what you see? Visit the ' +\n",
              "            '<a target=\"_blank\" href=https://colab.research.google.com/notebooks/data_table.ipynb>data table notebook</a>'\n",
              "            + ' to learn more about interactive tables.';\n",
              "          element.innerHTML = '';\n",
              "          dataTable['output_type'] = 'display_data';\n",
              "          await google.colab.output.renderOutput(dataTable, element);\n",
              "          const docLink = document.createElement('div');\n",
              "          docLink.innerHTML = docLinkHtml;\n",
              "          element.appendChild(docLink);\n",
              "        }\n",
              "      </script>\n",
              "    </div>\n",
              "  </div>\n",
              "  "
            ]
          },
          "metadata": {},
          "execution_count": 73
        }
      ],
      "source": [
        "#corelation matrix\n",
        "data.corr()"
      ]
    },
    {
      "cell_type": "code",
      "execution_count": 74,
      "id": "4a65e5a9",
      "metadata": {
        "colab": {
          "base_uri": "https://localhost:8080/",
          "height": 296
        },
        "id": "4a65e5a9",
        "outputId": "0095f300-c398-4ada-cb60-1130ab6471a5"
      },
      "outputs": [
        {
          "output_type": "execute_result",
          "data": {
            "text/plain": [
              "<AxesSubplot:xlabel='Grade', ylabel='Video Uploads'>"
            ]
          },
          "metadata": {},
          "execution_count": 74
        },
        {
          "output_type": "display_data",
          "data": {
            "text/plain": [
              "<Figure size 432x288 with 1 Axes>"
            ],
            "image/png": "[encoded data removed]"
          },
          "metadata": {
            "needs_background": "light"
          }
        }
      ],
      "source": [
        "#which grade channel uploads more videos\n",
        "sns.barplot(x = \"Grade\", y = \"Video Uploads\", data = data)"
      ]
    },
    {
      "cell_type": "code",
      "execution_count": 75,
      "id": "7c340cbe",
      "metadata": {
        "colab": {
          "base_uri": "https://localhost:8080/",
          "height": 307
        },
        "id": "7c340cbe",
        "outputId": "2852947d-f612-4fc6-c2aa-bf37a8fb727a"
      },
      "outputs": [
        {
          "output_type": "execute_result",
          "data": {
            "text/plain": [
              "<AxesSubplot:xlabel='Grade', ylabel='Avg_viewe'>"
            ]
          },
          "metadata": {},
          "execution_count": 75
        },
        {
          "output_type": "display_data",
          "data": {
            "text/plain": [
              "<Figure size 432x288 with 1 Axes>"
            ],
            "image/png": "[encoded data removed]"
          },
          "metadata": {
            "needs_background": "light"
          }
        }
      ],
      "source": [
        "#grade have the highest avg view\n",
        "sns.barplot(x = \"Grade\", y = \"Avg_viewe\", data = data)"
      ]
    },
    {
      "cell_type": "code",
      "execution_count": 76,
      "id": "9ecfaf7c",
      "metadata": {
        "colab": {
          "base_uri": "https://localhost:8080/"
        },
        "id": "9ecfaf7c",
        "outputId": "0adc2637-dda2-4994-c126-4c22ee1185b3"
      },
      "outputs": [
        {
          "output_type": "execute_result",
          "data": {
            "text/plain": [
              "11577080.321918543"
            ]
          },
          "metadata": {},
          "execution_count": 76
        }
      ],
      "source": [
        "data.groupby(\"Grade\")[\"Avg_viewe\"].mean().max()\n"
      ]
    },
    {
      "cell_type": "code",
      "execution_count": 77,
      "id": "f02c2316",
      "metadata": {
        "colab": {
          "base_uri": "https://localhost:8080/"
        },
        "id": "f02c2316",
        "outputId": "e7cbbf0e-0f71-4f6d-d9ea-6ae1ca006e73"
      },
      "outputs": [
        {
          "output_type": "execute_result",
          "data": {
            "text/plain": [
              "Grade\n",
              "1    4178836032\n",
              "2    2633407673\n",
              "3    4581101256\n",
              "4     469077899\n",
              "5     222817625\n",
              "Name: Subscribers, dtype: int64"
            ]
          },
          "metadata": {},
          "execution_count": 77
        }
      ],
      "source": [
        "data.groupby(\"Grade\")[\"Subscribers\"].sum()\n"
      ]
    },
    {
      "cell_type": "code",
      "execution_count": 78,
      "id": "32104328",
      "metadata": {
        "colab": {
          "base_uri": "https://localhost:8080/",
          "height": 307
        },
        "id": "32104328",
        "outputId": "cb77908d-bd44-40d6-ea98-a3ba86ad8695"
      },
      "outputs": [
        {
          "output_type": "execute_result",
          "data": {
            "text/plain": [
              "<AxesSubplot:xlabel='Grade', ylabel='Subscribers'>"
            ]
          },
          "metadata": {},
          "execution_count": 78
        },
        {
          "output_type": "display_data",
          "data": {
            "text/plain": [
              "<Figure size 432x288 with 1 Axes>"
            ],
            "image/png": "[encoded data removed]"
          },
          "metadata": {
            "needs_background": "light"
          }
        }
      ],
      "source": [
        "sns.barplot(x = \"Grade\", y = \"Subscribers\", data = data)\n"
      ]
    },
    {
      "cell_type": "code",
      "execution_count": 79,
      "id": "a7c7f300",
      "metadata": {
        "colab": {
          "base_uri": "https://localhost:8080/",
          "height": 307
        },
        "id": "a7c7f300",
        "outputId": "f6ba506b-bacb-463c-c06f-e85f1a4ced8d"
      },
      "outputs": [
        {
          "output_type": "execute_result",
          "data": {
            "text/plain": [
              "<AxesSubplot:xlabel='Grade', ylabel='Video views'>"
            ]
          },
          "metadata": {},
          "execution_count": 79
        },
        {
          "output_type": "display_data",
          "data": {
            "text/plain": [
              "<Figure size 432x288 with 1 Axes>"
            ],
            "image/png": "[encoded data removed]"
          },
          "metadata": {
            "needs_background": "light"
          }
        }
      ],
      "source": [
        "sns.barplot(x = \"Grade\", y = \"Video views\", data = data)\n"
      ]
    },
    {
      "cell_type": "code",
      "execution_count": 80,
      "id": "c435c259",
      "metadata": {
        "colab": {
          "base_uri": "https://localhost:8080/",
          "height": 238
        },
        "id": "c435c259",
        "outputId": "8eb492d0-b95c-404f-9c90-64cf7a9e0485"
      },
      "outputs": [
        {
          "output_type": "execute_result",
          "data": {
            "text/plain": [
              "         Rank  Video Uploads  Subscribers    Video views   Avg_viewe\n",
              "Grade                                                               \n",
              "1     3520.54        3136.16   1535207.95   555183839.09  3280380.88\n",
              "2     1533.99        4382.58   2798520.38  1102450027.69  5254804.04\n",
              "3      534.29        5709.86   5107136.29  2497972949.11 10540908.45\n",
              "4       31.32       16960.30  11726947.47  6168741772.73 11577080.32\n",
              "5        5.50       37450.70  22281762.50 21199091192.80  5688267.96"
            ],
            "text/html": [
              "\n",
              "  <div id=\"df-321bda28-f6e0-4b64-9cad-79b31750fbd1\">\n",
              "    <div class=\"colab-df-container\">\n",
              "      <div>\n",
              "<style scoped>\n",
              "    .dataframe tbody tr th:only-of-type {\n",
              "        vertical-align: middle;\n",
              "    }\n",
              "\n",
              "    .dataframe tbody tr th {\n",
              "        vertical-align: top;\n",
              "    }\n",
              "\n",
              "    .dataframe thead th {\n",
              "        text-align: right;\n",
              "    }\n",
              "</style>\n",
              "<table border=\"1\" class=\"dataframe\">\n",
              "  <thead>\n",
              "    <tr style=\"text-align: right;\">\n",
              "      <th></th>\n",
              "      <th>Rank</th>\n",
              "      <th>Video Uploads</th>\n",
              "      <th>Subscribers</th>\n",
              "      <th>Video views</th>\n",
              "      <th>Avg_viewe</th>\n",
              "    </tr>\n",
              "    <tr>\n",
              "      <th>Grade</th>\n",
              "      <th></th>\n",
              "      <th></th>\n",
              "      <th></th>\n",
              "      <th></th>\n",
              "      <th></th>\n",
              "    </tr>\n",
              "  </thead>\n",
              "  <tbody>\n",
              "    <tr>\n",
              "      <th>1</th>\n",
              "      <td>3520.54</td>\n",
              "      <td>3136.16</td>\n",
              "      <td>1535207.95</td>\n",
              "      <td>555183839.09</td>\n",
              "      <td>3280380.88</td>\n",
              "    </tr>\n",
              "    <tr>\n",
              "      <th>2</th>\n",
              "      <td>1533.99</td>\n",
              "      <td>4382.58</td>\n",
              "      <td>2798520.38</td>\n",
              "      <td>1102450027.69</td>\n",
              "      <td>5254804.04</td>\n",
              "    </tr>\n",
              "    <tr>\n",
              "      <th>3</th>\n",
              "      <td>534.29</td>\n",
              "      <td>5709.86</td>\n",
              "      <td>5107136.29</td>\n",
              "      <td>2497972949.11</td>\n",
              "      <td>10540908.45</td>\n",
              "    </tr>\n",
              "    <tr>\n",
              "      <th>4</th>\n",
              "      <td>31.32</td>\n",
              "      <td>16960.30</td>\n",
              "      <td>11726947.47</td>\n",
              "      <td>6168741772.73</td>\n",
              "      <td>11577080.32</td>\n",
              "    </tr>\n",
              "    <tr>\n",
              "      <th>5</th>\n",
              "      <td>5.50</td>\n",
              "      <td>37450.70</td>\n",
              "      <td>22281762.50</td>\n",
              "      <td>21199091192.80</td>\n",
              "      <td>5688267.96</td>\n",
              "    </tr>\n",
              "  </tbody>\n",
              "</table>\n",
              "</div>\n",
              "      <button class=\"colab-df-convert\" onclick=\"convertToInteractive('df-321bda28-f6e0-4b64-9cad-79b31750fbd1')\"\n",
              "              title=\"Convert this dataframe to an interactive table.\"\n",
              "              style=\"display:none;\">\n",
              "        \n",
              "  <svg xmlns=\"http://www.w3.org/2000/svg\" height=\"24px\"viewBox=\"0 0 24 24\"\n",
              "       width=\"24px\">\n",
              "    <path d=\"M0 0h24v24H0V0z\" fill=\"none\"/>\n",
              "    <path d=\"M18.56 5.44l.94 2.06.94-2.06 2.06-.94-2.06-.94-.94-2.06-.94 2.06-2.06.94zm-11 1L8.5 8.5l.94-2.06 2.06-.94-2.06-.94L8.5 2.5l-.94 2.06-2.06.94zm10 10l.94 2.06.94-2.06 2.06-.94-2.06-.94-.94-2.06-.94 2.06-2.06.94z\"/><path d=\"M17.41 7.96l-1.37-1.37c-.4-.4-.92-.59-1.43-.59-.52 0-1.04.2-1.43.59L10.3 9.45l-7.72 7.72c-.78.78-.78 2.05 0 2.83L4 21.41c.39.39.9.59 1.41.59.51 0 1.02-.2 1.41-.59l7.78-7.78 2.81-2.81c.8-.78.8-2.07 0-2.86zM5.41 20L4 18.59l7.72-7.72 1.47 1.35L5.41 20z\"/>\n",
              "  </svg>\n",
              "      </button>\n",
              "      \n",
              "  <style>\n",
              "    .colab-df-container {\n",
              "      display:flex;\n",
              "      flex-wrap:wrap;\n",
              "      gap: 12px;\n",
              "    }\n",
              "\n",
              "    .colab-df-convert {\n",
              "      background-color: #E8F0FE;\n",
              "      border: none;\n",
              "      border-radius: 50%;\n",
              "      cursor: pointer;\n",
              "      display: none;\n",
              "      fill: #1967D2;\n",
              "      height: 32px;\n",
              "      padding: 0 0 0 0;\n",
              "      width: 32px;\n",
              "    }\n",
              "\n",
              "    .colab-df-convert:hover {\n",
              "      background-color: #E2EBFA;\n",
              "      box-shadow: 0px 1px 2px rgba(60, 64, 67, 0.3), 0px 1px 3px 1px rgba(60, 64, 67, 0.15);\n",
              "      fill: #174EA6;\n",
              "    }\n",
              "\n",
              "    [theme=dark] .colab-df-convert {\n",
              "      background-color: #3B4455;\n",
              "      fill: #D2E3FC;\n",
              "    }\n",
              "\n",
              "    [theme=dark] .colab-df-convert:hover {\n",
              "      background-color: #434B5C;\n",
              "      box-shadow: 0px 1px 3px 1px rgba(0, 0, 0, 0.15);\n",
              "      filter: drop-shadow(0px 1px 2px rgba(0, 0, 0, 0.3));\n",
              "      fill: #FFFFFF;\n",
              "    }\n",
              "  </style>\n",
              "\n",
              "      <script>\n",
              "        const buttonEl =\n",
              "          document.querySelector('#df-321bda28-f6e0-4b64-9cad-79b31750fbd1 button.colab-df-convert');\n",
              "        buttonEl.style.display =\n",
              "          google.colab.kernel.accessAllowed ? 'block' : 'none';\n",
              "\n",
              "        async function convertToInteractive(key) {\n",
              "          const element = document.querySelector('#df-321bda28-f6e0-4b64-9cad-79b31750fbd1');\n",
              "          const dataTable =\n",
              "            await google.colab.kernel.invokeFunction('convertToInteractive',\n",
              "                                                     [key], {});\n",
              "          if (!dataTable) return;\n",
              "\n",
              "          const docLinkHtml = 'Like what you see? Visit the ' +\n",
              "            '<a target=\"_blank\" href=https://colab.research.google.com/notebooks/data_table.ipynb>data table notebook</a>'\n",
              "            + ' to learn more about interactive tables.';\n",
              "          element.innerHTML = '';\n",
              "          dataTable['output_type'] = 'display_data';\n",
              "          await google.colab.output.renderOutput(dataTable, element);\n",
              "          const docLink = document.createElement('div');\n",
              "          docLink.innerHTML = docLinkHtml;\n",
              "          element.appendChild(docLink);\n",
              "        }\n",
              "      </script>\n",
              "    </div>\n",
              "  </div>\n",
              "  "
            ]
          },
          "metadata": {},
          "execution_count": 80
        }
      ],
      "source": [
        "data.groupby(\"Grade\").mean()\n"
      ]
    },
    {
      "cell_type": "code",
      "source": [],
      "metadata": {
        "id": "DQyAiTcJw8Fm"
      },
      "id": "DQyAiTcJw8Fm",
      "execution_count": 80,
      "outputs": []
    }
  ],
  "metadata": {
    "kernelspec": {
      "display_name": "Python 3 (ipykernel)",
      "language": "python",
      "name": "python3"
    },
    "language_info": {
      "codemirror_mode": {
        "name": "ipython",
        "version": 3
      },
      "file_extension": ".py",
      "mimetype": "text/x-python",
      "name": "python",
      "nbconvert_exporter": "python",
      "pygments_lexer": "ipython3",
      "version": "3.11.0"
    },
    "colab": {
      "provenance": [],
      "include_colab_link": true
    }
  },
  "nbformat": 4,
  "nbformat_minor": 5
}